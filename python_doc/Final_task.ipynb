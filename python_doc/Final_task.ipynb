{
 "cells": [
  {
   "cell_type": "markdown",
   "metadata": {
    "toc": true
   },
   "source": [
    "<h1>Table of Contents<span class=\"tocSkip\"></span></h1>\n",
    "<div class=\"toc\"><ul class=\"toc-item\"><li><span><a href=\"#Финальное-задание\" data-toc-modified-id=\"Финальное-задание-1\"><span class=\"toc-item-num\">1&nbsp;&nbsp;</span>Финальное задание</a></span><ul class=\"toc-item\"><li><span><a href=\"#Предсказание-пола-клиента-по-транзакциям\" data-toc-modified-id=\"Предсказание-пола-клиента-по-транзакциям-1.1\"><span class=\"toc-item-num\">1.1&nbsp;&nbsp;</span>Предсказание пола клиента по транзакциям</a></span></li><li><span><a href=\"#Описание-задачи\" data-toc-modified-id=\"Описание-задачи-1.2\"><span class=\"toc-item-num\">1.2&nbsp;&nbsp;</span>Описание задачи</a></span><ul class=\"toc-item\"><li><span><a href=\"#В-рамках-финального-задания-будет-необходимо-предсказывать-пол-клиента,-основываясь-на-его-транзакционных-исторических-данных.-Выполнение-финального-задания---это-маленький-шаг-в-большую-Data-Science-всесенную,-поэтому-отнеситесь-к-нему-максимально-серьёзно-:)\" data-toc-modified-id=\"В-рамках-финального-задания-будет-необходимо-предсказывать-пол-клиента,-основываясь-на-его-транзакционных-исторических-данных.-Выполнение-финального-задания---это-маленький-шаг-в-большую-Data-Science-всесенную,-поэтому-отнеситесь-к-нему-максимально-серьёзно-:)-1.2.1\"><span class=\"toc-item-num\">1.2.1&nbsp;&nbsp;</span>В рамках финального задания будет необходимо предсказывать пол клиента, основываясь на его транзакционных исторических данных. Выполнение финального задания - это маленький шаг в большую Data Science-всесенную, поэтому отнеситесь к нему максимально серьёзно :)</a></span></li><li><span><a href=\"#Вы-будете-строить-предиктивные-модели-и-отправлять-результаты-своего-моделирования-на-платформу-Kaggle,-где-и-будет-оцениваться-каждое-решение-и-положение-участников.-Но-переживать-не-стоит---код,-связанный-с-построением-модели-мы-уже-написали,-поэтому-вашим-основным-заданием-будет-создание-новых-переменных-для-генерации-новых-инсайдов-из-данных,-которые-смогут-улучшить-полученные-значения-метрики.\" data-toc-modified-id=\"Вы-будете-строить-предиктивные-модели-и-отправлять-результаты-своего-моделирования-на-платформу-Kaggle,-где-и-будет-оцениваться-каждое-решение-и-положение-участников.-Но-переживать-не-стоит---код,-связанный-с-построением-модели-мы-уже-написали,-поэтому-вашим-основным-заданием-будет-создание-новых-переменных-для-генерации-новых-инсайдов-из-данных,-которые-смогут-улучшить-полученные-значения-метрики.-1.2.2\"><span class=\"toc-item-num\">1.2.2&nbsp;&nbsp;</span>Вы будете строить предиктивные модели и отправлять результаты своего моделирования на платформу <a href=\"https://www.kaggle.com/t/e8a939488d274dab9051cce14d5ca952\" target=\"_blank\">Kaggle</a>, где и будет оцениваться каждое решение и положение участников. Но переживать не стоит - код, связанный с построением модели мы уже написали, поэтому вашим основным заданием будет создание новых переменных для генерации новых инсайдов из данных, которые смогут улучшить полученные значения метрики.</a></span></li><li><span><a href=\"#В-роли-метрики-выступает-ROC-AUC,-который-и-нужно-будет-оптимизировать.\" data-toc-modified-id=\"В-роли-метрики-выступает-ROC-AUC,-который-и-нужно-будет-оптимизировать.-1.2.3\"><span class=\"toc-item-num\">1.2.3&nbsp;&nbsp;</span>В роли метрики выступает <a href=\"https://dyakonov.org/2017/07/28/auc-roc-%D0%BF%D0%BB%D0%BE%D1%89%D0%B0%D0%B4%D1%8C-%D0%BF%D0%BE%D0%B4-%D0%BA%D1%80%D0%B8%D0%B2%D0%BE%D0%B9-%D0%BE%D1%88%D0%B8%D0%B1%D0%BE%D0%BA/\" target=\"_blank\">ROC AUC</a>, который и нужно будет оптимизировать.</a></span></li><li><span><a href=\"#Так-как-код-для-оценки-модели-на-тренировочных-данных-и-её-применения-на-тестовых-данных-уже-дан,-то-мы-будем-работать-над-тем,-чтобы-создать-переменные-для-улучшения-результатов-моделирования.\" data-toc-modified-id=\"Так-как-код-для-оценки-модели-на-тренировочных-данных-и-её-применения-на-тестовых-данных-уже-дан,-то-мы-будем-работать-над-тем,-чтобы-создать-переменные-для-улучшения-результатов-моделирования.-1.2.4\"><span class=\"toc-item-num\">1.2.4&nbsp;&nbsp;</span>Так как код для оценки модели на тренировочных данных и её применения на тестовых данных уже дан, то мы будем работать над тем, чтобы создать переменные для улучшения результатов моделирования.</a></span></li><li><span><a href=\"#(!)-В-рамках-данного-задания-Вы-можете-делать-всё,-что-угодно---использовать-другие-алгоритмы-и/или-их-комбинации,-подбирать-гиперпараметры-своих-моделей,-отбирать-переменые,-etc.-Мы-создали-шаблон-для-простоты-и-для-Вашего-понимания-верхнеуровневого-процесса-разработки-модели,-опустив-при-этом-большое-число-деталей.\" data-toc-modified-id=\"(!)-В-рамках-данного-задания-Вы-можете-делать-всё,-что-угодно---использовать-другие-алгоритмы-и/или-их-комбинации,-подбирать-гиперпараметры-своих-моделей,-отбирать-переменые,-etc.-Мы-создали-шаблон-для-простоты-и-для-Вашего-понимания-верхнеуровневого-процесса-разработки-модели,-опустив-при-этом-большое-число-деталей.-1.2.5\"><span class=\"toc-item-num\">1.2.5&nbsp;&nbsp;</span>(!) В рамках данного задания Вы можете делать всё, что угодно - использовать другие алгоритмы и/или их комбинации, подбирать гиперпараметры своих моделей, отбирать переменые, etc. Мы создали шаблон для простоты и для Вашего понимания верхнеуровневого процесса разработки модели, опустив при этом большое число деталей.</a></span></li></ul></li><li><span><a href=\"#Basic-features\" data-toc-modified-id=\"Basic-features-1.3\"><span class=\"toc-item-num\">1.3&nbsp;&nbsp;</span>Basic features</a></span><ul class=\"toc-item\"><li><span><a href=\"#Видим,-что-результат-на-кросс-валидации---62.5%-ROC-AUC.\" data-toc-modified-id=\"Видим,-что-результат-на-кросс-валидации---62.5%-ROC-AUC.-1.3.1\"><span class=\"toc-item-num\">1.3.1&nbsp;&nbsp;</span>Видим, что результат на кросс-валидации - 62.5% ROC AUC.</a></span></li></ul></li><li><span><a href=\"#Advanced-features\" data-toc-modified-id=\"Advanced-features-1.4\"><span class=\"toc-item-num\">1.4&nbsp;&nbsp;</span>Advanced features</a></span><ul class=\"toc-item\"><li><span><a href=\"#Добавление-новых-переменных-улучшило-наши-результаты-ROC-AUC-с-62.5%-до-68.2%,-на-тестовой-выборке-результат-будет-аналогичным,-так-что-мы-явно-не-переобучились.-При-этом-есть-куда-стремиться!\" data-toc-modified-id=\"Добавление-новых-переменных-улучшило-наши-результаты-ROC-AUC-с-62.5%-до-68.2%,-на-тестовой-выборке-результат-будет-аналогичным,-так-что-мы-явно-не-переобучились.-При-этом-есть-куда-стремиться!-1.4.1\"><span class=\"toc-item-num\">1.4.1&nbsp;&nbsp;</span>Добавление новых переменных улучшило наши результаты ROC AUC с 62.5% до 68.2%, на тестовой выборке результат будет аналогичным, так что мы явно не переобучились. При этом есть куда стремиться!</a></span></li><li><span><a href=\"#В-итоге-можем-отправить-полученное-решение-на-платформу-в-Kaggle-In-Class-Competition.-Для-этого-выгрузим-его-в-*.csv---файл,-после-чего-полученный-файл-можем-загружать-в-качестве-ответа.\" data-toc-modified-id=\"В-итоге-можем-отправить-полученное-решение-на-платформу-в-Kaggle-In-Class-Competition.-Для-этого-выгрузим-его-в-*.csv---файл,-после-чего-полученный-файл-можем-загружать-в-качестве-ответа.-1.4.2\"><span class=\"toc-item-num\">1.4.2&nbsp;&nbsp;</span>В итоге можем отправить полученное решение на платформу в Kaggle In-Class Competition. Для этого выгрузим его в *.csv - файл, после чего полученный файл можем загружать в качестве ответа.</a></span></li></ul></li></ul></li><li><span><a href=\"#(!)-Цель-задания:\" data-toc-modified-id=\"(!)-Цель-задания:-2\"><span class=\"toc-item-num\">2&nbsp;&nbsp;</span>(!) Цель задания:</a></span><ul class=\"toc-item\"><li><span><a href=\"#Полученная-модель-должна-иметь-ROC-AUC-на-Public-части-тестовой-выборки-(на-лидерборде)-не-менее-80%.\" data-toc-modified-id=\"Полученная-модель-должна-иметь-ROC-AUC-на-Public-части-тестовой-выборки-(на-лидерборде)-не-менее-80%.-2.1\"><span class=\"toc-item-num\">2.1&nbsp;&nbsp;</span>Полученная модель должна иметь ROC AUC на Public-части тестовой выборки (на лидерборде) не менее 80%.</a></span></li></ul></li></ul></div>"
   ]
  },
  {
   "cell_type": "markdown",
   "metadata": {},
   "source": [
    "# Финальное задание"
   ]
  },
  {
   "cell_type": "markdown",
   "metadata": {},
   "source": [
    "## Предсказание пола клиента по транзакциям"
   ]
  },
  {
   "cell_type": "markdown",
   "metadata": {},
   "source": [
    "## Описание задачи "
   ]
  },
  {
   "cell_type": "markdown",
   "metadata": {},
   "source": [
    "### В рамках финального задания будет необходимо предсказывать пол клиента, основываясь на его транзакционных исторических данных. Выполнение финального задания - это маленький шаг в большую Data Science-всесенную, поэтому отнеситесь к нему максимально серьёзно :)"
   ]
  },
  {
   "cell_type": "markdown",
   "metadata": {},
   "source": [
    "### Вы будете строить предиктивные модели и отправлять результаты своего моделирования на платформу [Kaggle](https://www.kaggle.com/t/e8a939488d274dab9051cce14d5ca952), где и будет оцениваться каждое решение и положение участников. Но переживать не стоит - код, связанный с построением модели мы уже написали, поэтому вашим основным заданием будет создание новых переменных для генерации новых инсайдов из данных, которые смогут улучшить полученные значения метрики."
   ]
  },
  {
   "cell_type": "markdown",
   "metadata": {},
   "source": [
    "### В роли метрики выступает [ROC AUC](https://dyakonov.org/2017/07/28/auc-roc-%D0%BF%D0%BB%D0%BE%D1%89%D0%B0%D0%B4%D1%8C-%D0%BF%D0%BE%D0%B4-%D0%BA%D1%80%D0%B8%D0%B2%D0%BE%D0%B9-%D0%BE%D1%88%D0%B8%D0%B1%D0%BE%D0%BA/), который и нужно будет оптимизировать."
   ]
  },
  {
   "cell_type": "code",
   "execution_count": 1,
   "metadata": {
    "ExecuteTime": {
     "end_time": "2019-03-05T17:34:52.054851Z",
     "start_time": "2019-03-05T17:34:51.515762Z"
    }
   },
   "outputs": [],
   "source": [
    "import pandas as pd\n",
    "import numpy as np\n",
    "import xgboost as xgb\n",
    "import re\n",
    "import matplotlib.pyplot as plt\n",
    "\n",
    "from tqdm import tqdm, tqdm_pandas\n",
    "\n",
    "from warnings import filterwarnings\n",
    "\n",
    "%matplotlib inline\n",
    "filterwarnings('ignore')"
   ]
  },
  {
   "cell_type": "code",
   "execution_count": 2,
   "metadata": {},
   "outputs": [],
   "source": [
    "from tqdm.notebook import tqdm\n",
    "from tqdm._tqdm_notebook import tqdm_notebook"
   ]
  },
  {
   "cell_type": "code",
   "execution_count": 4,
   "metadata": {},
   "outputs": [],
   "source": [
    "import os\n",
    "os.chdir('d:\\\\docs\\\\study\\\\sber\\\\python_doc\\\\data')"
   ]
  },
  {
   "cell_type": "code",
   "execution_count": 5,
   "metadata": {
    "ExecuteTime": {
     "end_time": "2019-03-05T17:34:58.314241Z",
     "start_time": "2019-03-05T17:34:52.056205Z"
    },
    "scrolled": true
   },
   "outputs": [],
   "source": [
    "# Считываем данные\n",
    "tr_mcc_codes = pd.read_csv('../data/tr_mcc_codes.csv', sep=';', index_col='mcc_code')\n",
    "tr_types = pd.read_csv('../data/tr_types.csv', sep=';', index_col='tr_type')\n",
    "\n",
    "transactions = pd.read_csv('../data/transactions.csv', index_col='customer_id')\n",
    "gender_train = pd.read_csv('../data/gender_train.csv', index_col='customer_id')\n",
    "gender_test = pd.read_csv('../data/gender_test.csv', index_col='customer_id')\n",
    "transactions_train = transactions.join(gender_train, how='inner')\n",
    "transactions_test = transactions.join(gender_test, how='inner')\n",
    "\n",
    "del transactions"
   ]
  },
  {
   "cell_type": "code",
   "execution_count": 6,
   "metadata": {},
   "outputs": [],
   "source": [
    "for df in [transactions_train, transactions_test]:\n",
    "    df['day'] = df['tr_datetime'].str.split().apply(lambda x: int(x[0]) % 7)\n",
    "    df['hour'] = df['tr_datetime'].apply(lambda x: re.search(' \\d*', x).group(0)).astype(int)\n",
    "    df['night'] = ~df['hour'].between(6, 22).astype(int)\n",
    "    df['night_in'] = ~df['hour'].between(5, 1).astype(int)"
   ]
  },
  {
   "cell_type": "code",
   "execution_count": 7,
   "metadata": {},
   "outputs": [],
   "source": [
    "transactions_train['mcc_code+tr_type'] = transactions_train['mcc_code'].astype(str) + transactions_train['tr_type'].astype(str)\n",
    "transactions_test['mcc_code+tr_type'] = transactions_test['mcc_code'].astype(str) + transactions_test['tr_type'].astype(str)"
   ]
  },
  {
   "cell_type": "code",
   "execution_count": 8,
   "metadata": {},
   "outputs": [
    {
     "data": {
      "text/html": [
       "<div>\n",
       "<style scoped>\n",
       "    .dataframe tbody tr th:only-of-type {\n",
       "        vertical-align: middle;\n",
       "    }\n",
       "\n",
       "    .dataframe tbody tr th {\n",
       "        vertical-align: top;\n",
       "    }\n",
       "\n",
       "    .dataframe thead th {\n",
       "        text-align: right;\n",
       "    }\n",
       "</style>\n",
       "<table border=\"1\" class=\"dataframe\">\n",
       "  <thead>\n",
       "    <tr style=\"text-align: right;\">\n",
       "      <th></th>\n",
       "      <th>tr_datetime</th>\n",
       "      <th>mcc_code</th>\n",
       "      <th>tr_type</th>\n",
       "      <th>amount</th>\n",
       "      <th>term_id</th>\n",
       "      <th>gender</th>\n",
       "      <th>day</th>\n",
       "      <th>hour</th>\n",
       "      <th>night</th>\n",
       "      <th>night_in</th>\n",
       "      <th>mcc_code+tr_type</th>\n",
       "    </tr>\n",
       "    <tr>\n",
       "      <th>customer_id</th>\n",
       "      <th></th>\n",
       "      <th></th>\n",
       "      <th></th>\n",
       "      <th></th>\n",
       "      <th></th>\n",
       "      <th></th>\n",
       "      <th></th>\n",
       "      <th></th>\n",
       "      <th></th>\n",
       "      <th></th>\n",
       "      <th></th>\n",
       "    </tr>\n",
       "  </thead>\n",
       "  <tbody>\n",
       "    <tr>\n",
       "      <th>22899</th>\n",
       "      <td>1 15:26:45</td>\n",
       "      <td>4814</td>\n",
       "      <td>1030</td>\n",
       "      <td>-4491.83</td>\n",
       "      <td>NaN</td>\n",
       "      <td>1</td>\n",
       "      <td>1</td>\n",
       "      <td>15</td>\n",
       "      <td>-2</td>\n",
       "      <td>-1</td>\n",
       "      <td>48141030</td>\n",
       "    </tr>\n",
       "    <tr>\n",
       "      <th>22899</th>\n",
       "      <td>2 20:52:48</td>\n",
       "      <td>4814</td>\n",
       "      <td>1030</td>\n",
       "      <td>-2245.92</td>\n",
       "      <td>NaN</td>\n",
       "      <td>1</td>\n",
       "      <td>2</td>\n",
       "      <td>20</td>\n",
       "      <td>-2</td>\n",
       "      <td>-1</td>\n",
       "      <td>48141030</td>\n",
       "    </tr>\n",
       "    <tr>\n",
       "      <th>22899</th>\n",
       "      <td>5 18:52:19</td>\n",
       "      <td>6011</td>\n",
       "      <td>2010</td>\n",
       "      <td>-44918.32</td>\n",
       "      <td>NaN</td>\n",
       "      <td>1</td>\n",
       "      <td>5</td>\n",
       "      <td>18</td>\n",
       "      <td>-2</td>\n",
       "      <td>-1</td>\n",
       "      <td>60112010</td>\n",
       "    </tr>\n",
       "    <tr>\n",
       "      <th>22899</th>\n",
       "      <td>6 12:28:22</td>\n",
       "      <td>6011</td>\n",
       "      <td>2010</td>\n",
       "      <td>-150476.36</td>\n",
       "      <td>NaN</td>\n",
       "      <td>1</td>\n",
       "      <td>6</td>\n",
       "      <td>12</td>\n",
       "      <td>-2</td>\n",
       "      <td>-1</td>\n",
       "      <td>60112010</td>\n",
       "    </tr>\n",
       "    <tr>\n",
       "      <th>22899</th>\n",
       "      <td>28 10:41:01</td>\n",
       "      <td>6010</td>\n",
       "      <td>7030</td>\n",
       "      <td>33688.74</td>\n",
       "      <td>NaN</td>\n",
       "      <td>1</td>\n",
       "      <td>0</td>\n",
       "      <td>10</td>\n",
       "      <td>-2</td>\n",
       "      <td>-1</td>\n",
       "      <td>60107030</td>\n",
       "    </tr>\n",
       "  </tbody>\n",
       "</table>\n",
       "</div>"
      ],
      "text/plain": [
       "             tr_datetime  mcc_code  tr_type     amount term_id  gender  day  \\\n",
       "customer_id                                                                   \n",
       "22899         1 15:26:45      4814     1030   -4491.83     NaN       1    1   \n",
       "22899         2 20:52:48      4814     1030   -2245.92     NaN       1    2   \n",
       "22899         5 18:52:19      6011     2010  -44918.32     NaN       1    5   \n",
       "22899         6 12:28:22      6011     2010 -150476.36     NaN       1    6   \n",
       "22899        28 10:41:01      6010     7030   33688.74     NaN       1    0   \n",
       "\n",
       "             hour  night  night_in mcc_code+tr_type  \n",
       "customer_id                                          \n",
       "22899          15     -2        -1         48141030  \n",
       "22899          20     -2        -1         48141030  \n",
       "22899          18     -2        -1         60112010  \n",
       "22899          12     -2        -1         60112010  \n",
       "22899          10     -2        -1         60107030  "
      ]
     },
     "execution_count": 8,
     "metadata": {},
     "output_type": "execute_result"
    }
   ],
   "source": [
    "transactions_train.head()"
   ]
  },
  {
   "cell_type": "code",
   "execution_count": 9,
   "metadata": {},
   "outputs": [
    {
     "data": {
      "text/html": [
       "<div>\n",
       "<style scoped>\n",
       "    .dataframe tbody tr th:only-of-type {\n",
       "        vertical-align: middle;\n",
       "    }\n",
       "\n",
       "    .dataframe tbody tr th {\n",
       "        vertical-align: top;\n",
       "    }\n",
       "\n",
       "    .dataframe thead th {\n",
       "        text-align: right;\n",
       "    }\n",
       "</style>\n",
       "<table border=\"1\" class=\"dataframe\">\n",
       "  <thead>\n",
       "    <tr style=\"text-align: right;\">\n",
       "      <th></th>\n",
       "      <th>tr_datetime</th>\n",
       "      <th>mcc_code</th>\n",
       "      <th>tr_type</th>\n",
       "      <th>amount</th>\n",
       "      <th>term_id</th>\n",
       "      <th>day</th>\n",
       "      <th>hour</th>\n",
       "      <th>night</th>\n",
       "      <th>night_in</th>\n",
       "      <th>mcc_code+tr_type</th>\n",
       "    </tr>\n",
       "    <tr>\n",
       "      <th>customer_id</th>\n",
       "      <th></th>\n",
       "      <th></th>\n",
       "      <th></th>\n",
       "      <th></th>\n",
       "      <th></th>\n",
       "      <th></th>\n",
       "      <th></th>\n",
       "      <th></th>\n",
       "      <th></th>\n",
       "      <th></th>\n",
       "    </tr>\n",
       "  </thead>\n",
       "  <tbody>\n",
       "    <tr>\n",
       "      <th>6815</th>\n",
       "      <td>10 10:52:00</td>\n",
       "      <td>4814</td>\n",
       "      <td>1030</td>\n",
       "      <td>-2245.92</td>\n",
       "      <td>NaN</td>\n",
       "      <td>3</td>\n",
       "      <td>10</td>\n",
       "      <td>-2</td>\n",
       "      <td>-1</td>\n",
       "      <td>48141030</td>\n",
       "    </tr>\n",
       "    <tr>\n",
       "      <th>6815</th>\n",
       "      <td>10 14:44:36</td>\n",
       "      <td>4814</td>\n",
       "      <td>1030</td>\n",
       "      <td>-2245.92</td>\n",
       "      <td>NaN</td>\n",
       "      <td>3</td>\n",
       "      <td>14</td>\n",
       "      <td>-2</td>\n",
       "      <td>-1</td>\n",
       "      <td>48141030</td>\n",
       "    </tr>\n",
       "    <tr>\n",
       "      <th>6815</th>\n",
       "      <td>11 10:23:14</td>\n",
       "      <td>6010</td>\n",
       "      <td>7031</td>\n",
       "      <td>2470507.35</td>\n",
       "      <td>NaN</td>\n",
       "      <td>4</td>\n",
       "      <td>10</td>\n",
       "      <td>-2</td>\n",
       "      <td>-1</td>\n",
       "      <td>60107031</td>\n",
       "    </tr>\n",
       "    <tr>\n",
       "      <th>6815</th>\n",
       "      <td>14 12:49:46</td>\n",
       "      <td>6011</td>\n",
       "      <td>2010</td>\n",
       "      <td>-11229.58</td>\n",
       "      <td>NaN</td>\n",
       "      <td>0</td>\n",
       "      <td>12</td>\n",
       "      <td>-2</td>\n",
       "      <td>-1</td>\n",
       "      <td>60112010</td>\n",
       "    </tr>\n",
       "    <tr>\n",
       "      <th>6815</th>\n",
       "      <td>17 12:33:31</td>\n",
       "      <td>4814</td>\n",
       "      <td>1030</td>\n",
       "      <td>-2245.92</td>\n",
       "      <td>NaN</td>\n",
       "      <td>3</td>\n",
       "      <td>12</td>\n",
       "      <td>-2</td>\n",
       "      <td>-1</td>\n",
       "      <td>48141030</td>\n",
       "    </tr>\n",
       "  </tbody>\n",
       "</table>\n",
       "</div>"
      ],
      "text/plain": [
       "             tr_datetime  mcc_code  tr_type      amount term_id  day  hour  \\\n",
       "customer_id                                                                  \n",
       "6815         10 10:52:00      4814     1030    -2245.92     NaN    3    10   \n",
       "6815         10 14:44:36      4814     1030    -2245.92     NaN    3    14   \n",
       "6815         11 10:23:14      6010     7031  2470507.35     NaN    4    10   \n",
       "6815         14 12:49:46      6011     2010   -11229.58     NaN    0    12   \n",
       "6815         17 12:33:31      4814     1030    -2245.92     NaN    3    12   \n",
       "\n",
       "             night  night_in mcc_code+tr_type  \n",
       "customer_id                                    \n",
       "6815            -2        -1         48141030  \n",
       "6815            -2        -1         48141030  \n",
       "6815            -2        -1         60107031  \n",
       "6815            -2        -1         60112010  \n",
       "6815            -2        -1         48141030  "
      ]
     },
     "execution_count": 9,
     "metadata": {},
     "output_type": "execute_result"
    }
   ],
   "source": [
    "transactions_test.head()"
   ]
  },
  {
   "cell_type": "code",
   "execution_count": 10,
   "metadata": {},
   "outputs": [],
   "source": [
    "import tensorflow as tf"
   ]
  },
  {
   "cell_type": "code",
   "execution_count": 11,
   "metadata": {},
   "outputs": [],
   "source": [
    "import keras\n",
    "from keras.models import Sequential\n",
    "from keras.layers import Dense"
   ]
  },
  {
   "cell_type": "code",
   "execution_count": 12,
   "metadata": {},
   "outputs": [],
   "source": [
    "#from keras.utils import to_categorical "
   ]
  },
  {
   "cell_type": "code",
   "execution_count": 13,
   "metadata": {},
   "outputs": [],
   "source": [
    "import pandas as pd\n",
    "import numpy as np\n",
    "import re\n",
    "import matplotlib.pyplot as plt"
   ]
  },
  {
   "cell_type": "code",
   "execution_count": 14,
   "metadata": {},
   "outputs": [],
   "source": [
    "import sklearn\n",
    "import catboost as ctb"
   ]
  },
  {
   "cell_type": "code",
   "execution_count": 15,
   "metadata": {},
   "outputs": [],
   "source": [
    "from sklearn.preprocessing import StandardScaler\n",
    "from sklearn.preprocessing import MinMaxScaler"
   ]
  },
  {
   "cell_type": "code",
   "execution_count": 16,
   "metadata": {},
   "outputs": [],
   "source": [
    "from tqdm.notebook import tqdm_notebook\n",
    "from warnings import filterwarnings\n",
    "filterwarnings('ignore')"
   ]
  },
  {
   "cell_type": "code",
   "execution_count": 17,
   "metadata": {},
   "outputs": [],
   "source": [
    "pd.set_option('max_columns', 100)\n",
    "pd.set_option('display.max_columns', 100)\n",
    "pd.set_option('display.max_rows', 1000)\n",
    "pd.set_option('max_colwidth', 300)"
   ]
  },
  {
   "cell_type": "code",
   "execution_count": 18,
   "metadata": {
    "ExecuteTime": {
     "end_time": "2019-03-05T17:34:58.354996Z",
     "start_time": "2019-03-05T17:34:58.315591Z"
    }
   },
   "outputs": [],
   "source": [
    "# Функции, которыми можно пользоваться для построения классификатора, \n",
    "# оценки его результатов и построение прогноза для тестовой части пользователей\n",
    "\n",
    "# Cross-validation score (среднее значение метрики ROC AUC на тренировочных данных)\n",
    "def cv_score(params, train, y_true):\n",
    "    cv_res=xgb.cv(params, xgb.DMatrix(train, y_true),\n",
    "                  early_stopping_rounds=10, maximize=True, \n",
    "                  num_boost_round=10000, nfold=5, stratified=True)\n",
    "    index_argmax = cv_res['test-auc-mean'].argmax()\n",
    "    print('Cross-validation, ROC AUC: {:.3f}+-{:.3f}, Trees: {}'.format(cv_res.loc[index_argmax]['test-auc-mean'],\n",
    "                                                                        cv_res.loc[index_argmax]['test-auc-std'],\n",
    "                                                                        index_argmax))\n",
    "\n",
    "# Построение модели + возврат результатов классификации тестовых пользователей\n",
    "def fit_predict(params, num_trees, train, test, target):\n",
    "    params['learning_rate'] = params['eta']\n",
    "    clf = xgb.train(params, xgb.DMatrix(train.values, target, feature_names=list(train.columns)), \n",
    "                    num_boost_round=num_trees, maximize=True)\n",
    "    y_pred = clf.predict(xgb.DMatrix(test.values, feature_names=list(train.columns)))\n",
    "    submission = pd.DataFrame(index=test.index, data=y_pred, columns=['probability'])\n",
    "    return clf, submission\n",
    "\n",
    "# Отрисовка важности переменных. Важность переменной - количество разбиений выборки, \n",
    "# в которых участвует данная переменная. Чем больше - тем она, вероятно, лучше \n",
    "def draw_feature_importances(clf, top_k=10):\n",
    "    plt.figure(figsize=(10, 10))\n",
    "    \n",
    "    importances = dict(sorted(clf.get_score().items(), key=lambda x: x[1])[-top_k:])\n",
    "    y_pos = np.arange(len(importances))\n",
    "    \n",
    "    plt.barh(y_pos, list(importances.values()), align='center', color='green')\n",
    "    plt.yticks(y_pos, importances.keys(), fontsize=12)\n",
    "    plt.xticks(fontsize=12)\n",
    "    plt.xlabel('Feature importance', fontsize=15)\n",
    "    plt.title('Features importances, Sberbank Gender Prediction', fontsize=18)\n",
    "    plt.ylim(-0.5, len(importances) - 0.5)\n",
    "    plt.show()"
   ]
  },
  {
   "cell_type": "markdown",
   "metadata": {},
   "source": [
    "### Так как код для оценки модели на тренировочных данных и её применения на тестовых данных уже дан, то мы будем работать над тем, чтобы создать переменные для улучшения результатов моделирования. \n",
    "\n",
    "### (!) В рамках данного задания Вы можете делать всё, что угодно - использовать другие алгоритмы и/или их комбинации, подбирать гиперпараметры своих моделей, отбирать переменые, etc. Мы создали шаблон для простоты и для Вашего понимания верхнеуровневого процесса разработки модели, опустив при этом большое число деталей."
   ]
  },
  {
   "cell_type": "markdown",
   "metadata": {},
   "source": [
    "## Basic features"
   ]
  },
  {
   "cell_type": "markdown",
   "metadata": {},
   "source": [
    "Начнём с того, что сформируем базовые переменные по каждому пользователю. На этом этапе будем использовать стандартные агрегации, посчитанные на расходах и приходах клиента:\n",
    "- минимум\n",
    "- максимум\n",
    "- среднее\n",
    "- медиана\n",
    "- среднеквадратичное отклонение\n",
    "- количество\n",
    "\n",
    "Также параметры модели выберем стандартные, запишем их в словарь params, и будем использовать для дальнейшего построения модели (не забывайте, что с этим Вы можете тоже экспериментировать)."
   ]
  },
  {
   "cell_type": "code",
   "execution_count": 19,
   "metadata": {
    "ExecuteTime": {
     "end_time": "2019-03-05T17:34:58.362104Z",
     "start_time": "2019-03-05T17:34:58.356308Z"
    }
   },
   "outputs": [],
   "source": [
    "params = {\n",
    "    'eta': 0.1,\n",
    "    'max_depth': 3,\n",
    "    'subsample': 0.8,\n",
    "    'colsample_bytree': 0.8,\n",
    "    \n",
    "    'gamma': 0,\n",
    "    'lambda': 0,\n",
    "    'alpha': 0,\n",
    "    'min_child_weight': 0,\n",
    "    \n",
    "    'eval_metric': 'auc',\n",
    "    'objective': 'binary:logistic' ,\n",
    "    'booster': 'gbtree',\n",
    "    #'njobs': -1,\n",
    "    'tree_method': 'approx'\n",
    "}"
   ]
  },
  {
   "cell_type": "code",
   "execution_count": 20,
   "metadata": {
    "ExecuteTime": {
     "end_time": "2019-03-05T17:35:41.272300Z",
     "start_time": "2019-03-05T17:34:58.363622Z"
    }
   },
   "outputs": [],
   "source": [
    "#tqdm_notebook.pandas(desc=\"Progress:\")\n",
    "from tqdm import tqdm\n",
    "tqdm.pandas()\n",
    "\n",
    "def features_creation_basic(x): \n",
    "    features = []\n",
    "\n",
    "    features.append(pd.Series(x[x['amount']>0]['amount'].agg(['min', 'max', 'mean', 'median', 'std', 'count'])\\\n",
    "                               .add_prefix('positive_transactions_')))\n",
    "\n",
    "    features.append(pd.Series(x[x['amount']<0]['amount'].agg(['min', 'max', 'mean', 'median', 'std', 'count'])\\\n",
    "                               .add_prefix('negative_transactions_')))\n",
    " \n",
    "    return pd.concat(features)"
   ]
  },
  {
   "cell_type": "code",
   "execution_count": 21,
   "metadata": {},
   "outputs": [],
   "source": [
    "#data_train = transactions_train.groupby(transactions_train.index).progress_apply(features_creation_basic)\n",
    "data_train = transactions_train.groupby(transactions_train.index).apply(features_creation_basic)"
   ]
  },
  {
   "cell_type": "code",
   "execution_count": 22,
   "metadata": {},
   "outputs": [],
   "source": [
    "#data_test = transactions_test.groupby(transactions_test.index).progress_apply(features_creation_basic)\n",
    "data_test = transactions_test.groupby(transactions_test.index).apply(features_creation_basic)"
   ]
  },
  {
   "cell_type": "code",
   "execution_count": 23,
   "metadata": {
    "ExecuteTime": {
     "end_time": "2019-03-05T17:35:45.011046Z",
     "start_time": "2019-03-05T17:35:41.273326Z"
    }
   },
   "outputs": [],
   "source": [
    "target = data_train.join(gender_train, how='inner')['gender']"
   ]
  },
  {
   "cell_type": "code",
   "execution_count": 24,
   "metadata": {},
   "outputs": [
    {
     "name": "stdout",
     "output_type": "stream",
     "text": [
      "Cross-validation, ROC AUC: 0.622+-0.002, Trees: 54\n"
     ]
    }
   ],
   "source": [
    "cv_score(params, data_train, target)"
   ]
  },
  {
   "cell_type": "code",
   "execution_count": 25,
   "metadata": {
    "ExecuteTime": {
     "end_time": "2019-03-05T17:35:45.714620Z",
     "start_time": "2019-03-05T17:35:45.018570Z"
    }
   },
   "outputs": [],
   "source": [
    "### Число деревьев для XGBoost имеет смысл выставлять по результатам на кросс-валидации \n",
    "clf, submission = fit_predict(params, 70, data_train, data_test, target)"
   ]
  },
  {
   "cell_type": "code",
   "execution_count": 26,
   "metadata": {
    "ExecuteTime": {
     "end_time": "2019-03-05T17:35:45.897370Z",
     "start_time": "2019-03-05T17:35:45.719320Z"
    },
    "scrolled": false
   },
   "outputs": [
    {
     "data": {
      "image/png": "[encoded data removed]",
      "text/plain": [
       "<Figure size 720x720 with 1 Axes>"
      ]
     },
     "metadata": {
      "needs_background": "light"
     },
     "output_type": "display_data"
    }
   ],
   "source": [
    "draw_feature_importances(clf, 10)"
   ]
  },
  {
   "cell_type": "code",
   "execution_count": 38,
   "metadata": {},
   "outputs": [],
   "source": [
    "submission.to_csv('../data/basic_features_submission.csv')"
   ]
  },
  {
   "cell_type": "markdown",
   "metadata": {},
   "source": [
    "### Видим, что результат на кросс-валидации - 62.5% ROC AUC."
   ]
  },
  {
   "cell_type": "markdown",
   "metadata": {},
   "source": [
    "## Advanced features"
   ]
  },
  {
   "cell_type": "markdown",
   "metadata": {},
   "source": [
    "Добавим дополнительные переменные по каждому пользователю в модель. <br>\n",
    "Для этого будем анализировать дни недели, часы и состояние дня/ночи во время покупки - в каждом из случаев будем считать частоту транзакций в соответствующей категории относитеьно всех остальных категорий. <br>\n",
    "То есть если, например, клиент в 70% случае совершал ночные траты, то мы получим вектор [0.7, 0.3] для этого случая в качестве частот транзакций ночью/днём."
   ]
  },
  {
   "cell_type": "code",
   "execution_count": 39,
   "metadata": {
    "ExecuteTime": {
     "end_time": "2019-03-05T17:35:57.687397Z",
     "start_time": "2019-03-05T17:35:57.678823Z"
    }
   },
   "outputs": [],
   "source": [
    "def features_creation_advanced(x): \n",
    "    features = []\n",
    "\n",
    "    features.append(pd.Series(x['day'].value_counts(normalize=True).add_prefix('day_')))\n",
    "    features.append(pd.Series(x['hour'].value_counts(normalize=True).add_prefix('hour_')))\n",
    "    features.append(pd.Series(x['night'].value_counts(normalize=True).add_prefix('night_')))\n",
    "\n",
    "    features.append(pd.Series(x[x['amount']>0]['amount'].agg(['min', 'max', 'mean', 'median', 'std', 'count'])\\\n",
    "                                                        .add_prefix('positive_transactions_')))\n",
    "    features.append(pd.Series(x[x['amount']<0]['amount'].agg(['min', 'max', 'mean', 'median', 'std', 'count'])\\\n",
    "                                                        .add_prefix('negative_transactions_')))\n",
    " \n",
    "    return pd.concat(features)"
   ]
  },
  {
   "cell_type": "code",
   "execution_count": null,
   "metadata": {},
   "outputs": [],
   "source": []
  },
  {
   "cell_type": "code",
   "execution_count": 40,
   "metadata": {
    "ExecuteTime": {
     "end_time": "2019-03-05T17:37:19.784321Z",
     "start_time": "2019-03-05T17:35:57.688448Z"
    }
   },
   "outputs": [],
   "source": [
    "data_train = transactions_train.groupby(transactions_train.index).apply(features_creation_advanced).unstack(-1)\n",
    "data_test = transactions_test.groupby(transactions_test.index).apply(features_creation_advanced).unstack(-1)"
   ]
  },
  {
   "cell_type": "code",
   "execution_count": 41,
   "metadata": {
    "ExecuteTime": {
     "end_time": "2019-03-05T17:37:27.200528Z",
     "start_time": "2019-03-05T17:37:19.785535Z"
    }
   },
   "outputs": [
    {
     "name": "stdout",
     "output_type": "stream",
     "text": [
      "Cross-validation, ROC AUC: 0.678+-0.007, Trees: 122\n"
     ]
    }
   ],
   "source": [
    "target = data_train.join(gender_train, how='inner')['gender']\n",
    "cv_score(params, data_train, target)"
   ]
  },
  {
   "cell_type": "code",
   "execution_count": 42,
   "metadata": {
    "ExecuteTime": {
     "end_time": "2019-03-05T17:37:28.307548Z",
     "start_time": "2019-03-05T17:37:27.205214Z"
    }
   },
   "outputs": [],
   "source": [
    "### Число деревьев для XGBoost имеет смысл выятавлять по результатам на кросс-валидации \n",
    "clf, submission = fit_predict(params, 70, data_train, data_test, target)"
   ]
  },
  {
   "cell_type": "code",
   "execution_count": 43,
   "metadata": {
    "ExecuteTime": {
     "end_time": "2019-03-05T17:37:28.426836Z",
     "start_time": "2019-03-05T17:37:28.308620Z"
    },
    "scrolled": false
   },
   "outputs": [
    {
     "data": {
      "image/png": "[encoded data removed]",
      "text/plain": [
       "<Figure size 720x720 with 1 Axes>"
      ]
     },
     "metadata": {
      "needs_background": "light"
     },
     "output_type": "display_data"
    }
   ],
   "source": [
    "draw_feature_importances(clf, 10)"
   ]
  },
  {
   "cell_type": "markdown",
   "metadata": {},
   "source": [
    "### Добавление новых переменных улучшило наши результаты ROC AUC с 62.5% до 68.2%, на тестовой выборке результат будет аналогичным, так что мы явно не переобучились. При этом есть куда стремиться!"
   ]
  },
  {
   "cell_type": "markdown",
   "metadata": {},
   "source": [
    "### В итоге можем отправить полученное решение на платформу в Kaggle In-Class Competition. Для этого выгрузим его в *.csv - файл, после чего полученный файл можем загружать в качестве ответа."
   ]
  },
  {
   "cell_type": "code",
   "execution_count": 32,
   "metadata": {
    "ExecuteTime": {
     "end_time": "2019-03-05T17:37:28.448839Z",
     "start_time": "2019-03-05T17:37:28.438234Z"
    }
   },
   "outputs": [],
   "source": [
    "submission.to_csv('../data/submission_advanced.csv')"
   ]
  },
  {
   "cell_type": "markdown",
   "metadata": {},
   "source": [
    "# (!) Цель задания:\n",
    "## Полученная модель должна иметь ROC AUC на Public-части тестовой выборки (на лидерборде) не менее 80%."
   ]
  },
  {
   "cell_type": "code",
   "execution_count": 45,
   "metadata": {},
   "outputs": [],
   "source": [
    "def features_creation_advanced(x): \n",
    "    features = []\n",
    "\n",
    "    features.append(pd.Series(x['day'].value_counts(normalize=True).add_prefix('day_')))\n",
    "    features.append(pd.Series(x['hour'].value_counts(normalize=True).add_prefix('hour_')))\n",
    "#     features.append(pd.Series(x[x['hour']==1]['hour'].value_counts(normalize=True).add_prefix('hour1_')))\n",
    "#     features.append(pd.Series(x[x['hour']==2]['hour'].value_counts(normalize=True).add_prefix('hour3_')))\n",
    "#     features.append(pd.Series(x[x['hour']==3]['hour'].value_counts(normalize=True).add_prefix('hour3_')))\n",
    "#     features.append(pd.Series(x['night'].value_counts(normalize=True).add_prefix('night_')))\n",
    "#    features.append(pd.Series(x['night_in'].value_counts(normalize=True).add_prefix('night_in_')))\n",
    "#    features.append(pd.Series(x['mcc_code+tr_type'].value_counts(normalize=True).add_prefix('mcc_code+tr_type_')))\n",
    "\n",
    "#    features.append(pd.Series(x['mcc_code'].value_counts(normalize=True).add_prefix('mcc_code_')))\n",
    "#     features.append(pd.Series(transactions_train.groupby(['mcc_code'])['amount'].median()).add_prefix('mcc_code_'))\n",
    "#    features.append(pd.Series(x[x['mcc_code']==9211]['mcc_code'].value_counts(normalize=True).add_prefix('mcc_code9211_')))\n",
    "#     features.append(pd.Series(x[x['mcc_code']==5977]['mcc_code'].value_counts(normalize=True).add_prefix('mcc_code5977_')))\n",
    "#     features.append(pd.Series(x[x['mcc_code']==5533]['mcc_code'].value_counts(normalize=True).add_prefix('mcc_code5533_')))\n",
    "#     features.append(pd.Series(x[x['mcc_code']==5541]['mcc_code'].value_counts(normalize=True).add_prefix('mcc_code5541_')))\n",
    "#     features.append(pd.Series(x[x['mcc_code']==5621]['mcc_code'].value_counts(normalize=True).add_prefix('mcc_code5621_')))\n",
    "#     features.append(pd.Series(x[x['mcc_code']==5661]['mcc_code'].value_counts(normalize=True).add_prefix('mcc_code5661_')))\n",
    "\n",
    "    features.append(pd.Series(x[x['amount']>0]['amount'].agg(['median', 'min', 'max', 'mean', 'std', 'count'])\\\n",
    "                                                        .add_prefix('positive_transactions_')))\n",
    "\n",
    "    features.append(pd.Series(x[x['amount']<0]['amount'].agg(['min', 'max', 'mean', 'median', 'std', 'count'])\\\n",
    "                                                        .add_prefix('negative_transactions_')))\n",
    "# 'min', 'max', 'mean', 'median', 'std', 'count'\n",
    "\n",
    "    \n",
    "    return pd.concat(features)"
   ]
  },
  {
   "cell_type": "code",
   "execution_count": 51,
   "metadata": {},
   "outputs": [
    {
     "data": {
      "text/html": [
       "<div>\n",
       "<style scoped>\n",
       "    .dataframe tbody tr th:only-of-type {\n",
       "        vertical-align: middle;\n",
       "    }\n",
       "\n",
       "    .dataframe tbody tr th {\n",
       "        vertical-align: top;\n",
       "    }\n",
       "\n",
       "    .dataframe thead th {\n",
       "        text-align: right;\n",
       "    }\n",
       "</style>\n",
       "<table border=\"1\" class=\"dataframe\">\n",
       "  <thead>\n",
       "    <tr style=\"text-align: right;\">\n",
       "      <th></th>\n",
       "      <th>tr_datetime</th>\n",
       "      <th>mcc_code</th>\n",
       "      <th>tr_type</th>\n",
       "      <th>amount</th>\n",
       "      <th>term_id</th>\n",
       "      <th>gender</th>\n",
       "      <th>day</th>\n",
       "      <th>hour</th>\n",
       "      <th>night</th>\n",
       "      <th>night_in</th>\n",
       "      <th>mcc_code+tr_type</th>\n",
       "    </tr>\n",
       "    <tr>\n",
       "      <th>customer_id</th>\n",
       "      <th></th>\n",
       "      <th></th>\n",
       "      <th></th>\n",
       "      <th></th>\n",
       "      <th></th>\n",
       "      <th></th>\n",
       "      <th></th>\n",
       "      <th></th>\n",
       "      <th></th>\n",
       "      <th></th>\n",
       "      <th></th>\n",
       "    </tr>\n",
       "  </thead>\n",
       "  <tbody>\n",
       "    <tr>\n",
       "      <th>22899</th>\n",
       "      <td>1 15:26:45</td>\n",
       "      <td>4814</td>\n",
       "      <td>1030</td>\n",
       "      <td>-4491.83</td>\n",
       "      <td>NaN</td>\n",
       "      <td>1</td>\n",
       "      <td>1</td>\n",
       "      <td>15</td>\n",
       "      <td>-2</td>\n",
       "      <td>-1</td>\n",
       "      <td>48141030</td>\n",
       "    </tr>\n",
       "    <tr>\n",
       "      <th>22899</th>\n",
       "      <td>2 20:52:48</td>\n",
       "      <td>4814</td>\n",
       "      <td>1030</td>\n",
       "      <td>-2245.92</td>\n",
       "      <td>NaN</td>\n",
       "      <td>1</td>\n",
       "      <td>2</td>\n",
       "      <td>20</td>\n",
       "      <td>-2</td>\n",
       "      <td>-1</td>\n",
       "      <td>48141030</td>\n",
       "    </tr>\n",
       "    <tr>\n",
       "      <th>22899</th>\n",
       "      <td>5 18:52:19</td>\n",
       "      <td>6011</td>\n",
       "      <td>2010</td>\n",
       "      <td>-44918.32</td>\n",
       "      <td>NaN</td>\n",
       "      <td>1</td>\n",
       "      <td>5</td>\n",
       "      <td>18</td>\n",
       "      <td>-2</td>\n",
       "      <td>-1</td>\n",
       "      <td>60112010</td>\n",
       "    </tr>\n",
       "    <tr>\n",
       "      <th>22899</th>\n",
       "      <td>6 12:28:22</td>\n",
       "      <td>6011</td>\n",
       "      <td>2010</td>\n",
       "      <td>-150476.36</td>\n",
       "      <td>NaN</td>\n",
       "      <td>1</td>\n",
       "      <td>6</td>\n",
       "      <td>12</td>\n",
       "      <td>-2</td>\n",
       "      <td>-1</td>\n",
       "      <td>60112010</td>\n",
       "    </tr>\n",
       "    <tr>\n",
       "      <th>22899</th>\n",
       "      <td>28 10:41:01</td>\n",
       "      <td>6010</td>\n",
       "      <td>7030</td>\n",
       "      <td>33688.74</td>\n",
       "      <td>NaN</td>\n",
       "      <td>1</td>\n",
       "      <td>0</td>\n",
       "      <td>10</td>\n",
       "      <td>-2</td>\n",
       "      <td>-1</td>\n",
       "      <td>60107030</td>\n",
       "    </tr>\n",
       "  </tbody>\n",
       "</table>\n",
       "</div>"
      ],
      "text/plain": [
       "             tr_datetime  mcc_code  tr_type     amount term_id  gender  day  \\\n",
       "customer_id                                                                   \n",
       "22899         1 15:26:45      4814     1030   -4491.83     NaN       1    1   \n",
       "22899         2 20:52:48      4814     1030   -2245.92     NaN       1    2   \n",
       "22899         5 18:52:19      6011     2010  -44918.32     NaN       1    5   \n",
       "22899         6 12:28:22      6011     2010 -150476.36     NaN       1    6   \n",
       "22899        28 10:41:01      6010     7030   33688.74     NaN       1    0   \n",
       "\n",
       "             hour  night  night_in mcc_code+tr_type  \n",
       "customer_id                                          \n",
       "22899          15     -2        -1         48141030  \n",
       "22899          20     -2        -1         48141030  \n",
       "22899          18     -2        -1         60112010  \n",
       "22899          12     -2        -1         60112010  \n",
       "22899          10     -2        -1         60107030  "
      ]
     },
     "execution_count": 51,
     "metadata": {},
     "output_type": "execute_result"
    }
   ],
   "source": [
    "transactions_train.head()"
   ]
  },
  {
   "cell_type": "code",
   "execution_count": 46,
   "metadata": {},
   "outputs": [],
   "source": [
    "data_train = transactions_train.groupby(transactions_train.index).apply(features_creation_advanced).unstack(-1)\n",
    "data_test = transactions_test.groupby(transactions_test.index).apply(features_creation_advanced).unstack(-1)"
   ]
  },
  {
   "cell_type": "code",
   "execution_count": 47,
   "metadata": {},
   "outputs": [
    {
     "name": "stdout",
     "output_type": "stream",
     "text": [
      "Cross-validation, ROC AUC: 0.677+-0.008, Trees: 119\n"
     ]
    }
   ],
   "source": [
    "target = data_train.join(gender_train, how='inner')['gender']\n",
    "cv_score(params, data_train, target)"
   ]
  },
  {
   "cell_type": "code",
   "execution_count": 48,
   "metadata": {},
   "outputs": [],
   "source": [
    "clf, submission = fit_predict(params, 70, data_train, data_test, target)"
   ]
  },
  {
   "cell_type": "code",
   "execution_count": 49,
   "metadata": {},
   "outputs": [
    {
     "data": {
      "image/png": "[encoded data removed]",
      "text/plain": [
       "<Figure size 720x720 with 1 Axes>"
      ]
     },
     "metadata": {
      "needs_background": "light"
     },
     "output_type": "display_data"
    }
   ],
   "source": [
    "draw_feature_importances(clf, 15)"
   ]
  },
  {
   "cell_type": "code",
   "execution_count": null,
   "metadata": {},
   "outputs": [],
   "source": [
    "submission.to_csv('../data/submission_advanced.csv')"
   ]
  },
  {
   "cell_type": "code",
   "execution_count": null,
   "metadata": {},
   "outputs": [],
   "source": [
    "X = data_train.copy()\n",
    "y = target\n",
    "test_df = data_test.copy()\n",
    "\n",
    "X.fillna(-1, inplace=True)\n",
    "test_df.fillna(-1, inplace=True)\n",
    "\n",
    "scaler = MinMaxScaler()\n",
    "X = scaler.fit_transform(X)\n",
    "test_df = scaler.fit_transform(test_df)\n",
    "\n",
    "X.shape, test_df.shape\n"
   ]
  },
  {
   "cell_type": "code",
   "execution_count": null,
   "metadata": {},
   "outputs": [],
   "source": [
    "model_keras = Sequential()\n",
    "model_keras.add(Dense(256, activation='sigmoid', input_dim=231))\n",
    "model_keras.add(Dense(1024, activation='sigmoid'))\n",
    "model_keras.add(Dense(128, activation='sigmoid'))\n",
    "model_keras.add(Dense(1, activation='sigmoid'))\n",
    "\n",
    "# Compile the model_keras\n",
    "model_keras.compile(optimizer='adam', \n",
    "              loss='binary_crossentropy', \n",
    "              metrics=[tf.keras.metrics.AUC()])"
   ]
  },
  {
   "cell_type": "code",
   "execution_count": 187,
   "metadata": {},
   "outputs": [],
   "source": [
    "#model_keras.fit(X, y, epochs=20)\n",
    "\n",
    "#y_pred = model_keras.predict(test_df)\n",
    "\n",
    "#submission = pd.DataFrame(index=data_test.index)\n",
    "#submission['probability'] = y_pred\n",
    "#submission.to_csv('submission_kears.csv')\n",
    "#submission.head()"
   ]
  },
  {
   "cell_type": "code",
   "execution_count": 28,
   "metadata": {},
   "outputs": [],
   "source": [
    "# display(tr_mcc_codes.loc[5977])\n",
    "# display(tr_mcc_codes.loc[5533])\n",
    "# display(tr_mcc_codes.loc[5541])\n",
    "# display(tr_mcc_codes.loc[5661])\n",
    "# display(tr_mcc_codes.loc[5621])\n",
    "# display(tr_mcc_codes.loc[7994])\n",
    "# display(tr_mcc_codes.loc[5912])\n",
    "# display(tr_mcc_codes.loc[5812])\n",
    "# display(tr_mcc_codes.loc[5732])"
   ]
  },
  {
   "cell_type": "code",
   "execution_count": null,
   "metadata": {},
   "outputs": [],
   "source": [
    "# a = transactions_train['mcc_code']==5977\n",
    "# b = transactions_train['mcc_code']==5533\n",
    "# c = transactions_train['mcc_code']==5541\n",
    "\n",
    "# pd.Series(transactions_train[a | b | c]['mcc_code'])"
   ]
  },
  {
   "cell_type": "code",
   "execution_count": 29,
   "metadata": {},
   "outputs": [],
   "source": [
    "#tr_mcc_codes"
   ]
  },
  {
   "cell_type": "code",
   "execution_count": null,
   "metadata": {},
   "outputs": [],
   "source": [
    "#gender_train.head()\n",
    "#pd.Series(transactions_train['mcc_code+tr_type'].value_counts(normalize=True))\n",
    "pd.Series(transactions_train.groupby(['mcc_code'])['amount'].median()) #value_counts(normalize=True) )"
   ]
  },
  {
   "cell_type": "code",
   "execution_count": null,
   "metadata": {},
   "outputs": [],
   "source": [
    "pd.merge(transactions_train, tr_mcc_codes, on='mcc_code')"
   ]
  },
  {
   "cell_type": "code",
   "execution_count": null,
   "metadata": {},
   "outputs": [],
   "source": [
    "#transactions_test.head()"
   ]
  },
  {
   "cell_type": "code",
   "execution_count": null,
   "metadata": {},
   "outputs": [],
   "source": [
    "#transactions_train.corr(method='spearman')\n",
    "data_train.head() #[['day', 'gender']].corr()"
   ]
  },
  {
   "cell_type": "code",
   "execution_count": null,
   "metadata": {},
   "outputs": [],
   "source": [
    "!pip install catboost"
   ]
  },
  {
   "cell_type": "code",
   "execution_count": null,
   "metadata": {},
   "outputs": [],
   "source": [
    "import numpy \n",
    "from catboost import CatBoostRegressor\n",
    "\n",
    "dataset = numpy.array([[1,4,5,6],[4,5,6,7],[30,40,50,60],[20,15,85,60]])\n",
    "train_labels = [1.2,3.4,9.5,24.5]\n",
    "model = CatBoostRegressor(learning_rate=1, depth=6, loss_function='RMSE')\n",
    "fit_model = model.fit(dataset, train_labels)\n",
    "\n",
    "print(fit_model.get_params())"
   ]
  },
  {
   "cell_type": "code",
   "execution_count": null,
   "metadata": {},
   "outputs": [],
   "source": [
    "import numpy as np\n",
    "\n",
    "from catboost import CatBoostClassifier, Pool\n",
    "\n",
    "# initialize data\n",
    "train_data = np.random.randint(0,\n",
    "                               100, \n",
    "                               size=(100, 10))\n",
    "\n",
    "train_labels = np.random.randint(0,\n",
    "                                 2,\n",
    "                                 size=(100))\n",
    "\n",
    "test_data = catboost_pool = Pool(train_data, \n",
    "                                 train_labels)\n",
    "\n",
    "model = CatBoostClassifier(iterations=2,\n",
    "                           depth=2,\n",
    "                           learning_rate=1,\n",
    "                           loss_function='Logloss',\n",
    "                           verbose=True)\n",
    "# train the model\n",
    "model.fit(train_data, train_labels)\n",
    "# make the prediction using the resulting model\n",
    "preds_class = model.predict(test_data)\n",
    "preds_proba = model.predict_proba(test_data)\n",
    "print(\"class = \", preds_class)\n",
    "print(\"proba = \", preds_proba)"
   ]
  },
  {
   "cell_type": "code",
   "execution_count": null,
   "metadata": {},
   "outputs": [],
   "source": [
    "import numpy as np\n",
    "from catboost import Pool, CatBoostRegressor\n",
    "# initialize data\n",
    "train_data = np.random.randint(0, \n",
    "                               100, \n",
    "                               size=(100, 10))\n",
    "train_label = np.random.randint(0, \n",
    "                                1000, \n",
    "                                size=(100))\n",
    "test_data = np.random.randint(0, \n",
    "                              100, \n",
    "                              size=(50, 10))\n",
    "# initialize Pool\n",
    "train_pool = Pool(train_data, \n",
    "                  train_label, \n",
    "                  cat_features=[0,2,5])\n",
    "test_pool = Pool(test_data, \n",
    "                 cat_features=[0,2,5]) \n",
    "\n",
    "# specify the training parameters \n",
    "model = CatBoostRegressor(iterations=2, \n",
    "                          depth=2, \n",
    "                          learning_rate=1, \n",
    "                          loss_function='RMSE')\n",
    "#train the model\n",
    "model.fit(train_pool)\n",
    "# make the prediction using the resulting model\n",
    "preds = model.predict(test_pool)\n",
    "print(preds)"
   ]
  },
  {
   "cell_type": "code",
   "execution_count": null,
   "metadata": {},
   "outputs": [],
   "source": [
    "import numpy as np\n",
    "from catboost import CatBoost, Pool\n",
    "\n",
    "# read the dataset\n",
    "\n",
    "train_data = np.random.randint(0, 100, size=(100, 10))\n",
    "train_labels = np.random.randint(0, 2, size=(100))\n",
    "test_data = np.random.randint(0, 100, size=(50, 10))\n",
    "                                \n",
    "train_pool = Pool(train_data, train_labels)\n",
    "\n",
    "test_pool = Pool(test_data) \n",
    "# specify training parameters via map\n",
    "\n",
    "param = {'iterations':5}\n",
    "model = CatBoost(param)\n",
    "#train the model\n",
    "model.fit(train_pool) "
   ]
  },
  {
   "cell_type": "code",
   "execution_count": null,
   "metadata": {},
   "outputs": [],
   "source": [
    "# make the prediction using the resulting model\n",
    "preds_class = model.predict(test_pool, prediction_type='Class')"
   ]
  },
  {
   "cell_type": "code",
   "execution_count": null,
   "metadata": {},
   "outputs": [],
   "source": []
  }
 ],
 "metadata": {
  "hide_input": false,
  "kernelspec": {
   "display_name": "Python 3",
   "language": "python",
   "name": "python3"
  },
  "language_info": {
   "codemirror_mode": {
    "name": "ipython",
    "version": 3
   },
   "file_extension": ".py",
   "mimetype": "text/x-python",
   "name": "python",
   "nbconvert_exporter": "python",
   "pygments_lexer": "ipython3",
   "version": "3.8.8"
  },
  "toc": {
   "base_numbering": 1,
   "nav_menu": {},
   "number_sections": true,
   "sideBar": true,
   "skip_h1_title": false,
   "title_cell": "Table of Contents",
   "title_sidebar": "Contents",
   "toc_cell": true,
   "toc_position": {},
   "toc_section_display": true,
   "toc_window_display": true
  },
  "varInspector": {
   "cols": {
    "lenName": 16,
    "lenType": 16,
    "lenVar": 40
   },
   "kernels_config": {
    "python": {
     "delete_cmd_postfix": "",
     "delete_cmd_prefix": "del ",
     "library": "var_list.py",
     "varRefreshCmd": "print(var_dic_list())"
    },
    "r": {
     "delete_cmd_postfix": ") ",
     "delete_cmd_prefix": "rm(",
     "library": "var_list.r",
     "varRefreshCmd": "cat(var_dic_list()) "
    }
   },
   "types_to_exclude": [
    "module",
    "function",
    "builtin_function_or_method",
    "instance",
    "_Feature"
   ],
   "window_display": false
  }
 },
 "nbformat": 4,
 "nbformat_minor": 2
}
