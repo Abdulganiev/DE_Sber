{
 "cells": [
  {
   "cell_type": "markdown",
   "id": "3b067530",
   "metadata": {
    "toc": true
   },
   "source": [
    "<h1>Table of Contents<span class=\"tocSkip\"></span></h1>\n",
    "<div class=\"toc\"><ul class=\"toc-item\"><li><span><a href=\"#7.-Группировка\" data-toc-modified-id=\"7.-Группировка-1\"><span class=\"toc-item-num\">1&nbsp;&nbsp;</span>7. Группировка</a></span><ul class=\"toc-item\"><li><span><a href=\"#Формат-входных-данных\" data-toc-modified-id=\"Формат-входных-данных-1.1\"><span class=\"toc-item-num\">1.1&nbsp;&nbsp;</span>Формат входных данных</a></span></li><li><span><a href=\"#Формат-выходных-данных\" data-toc-modified-id=\"Формат-выходных-данных-1.2\"><span class=\"toc-item-num\">1.2&nbsp;&nbsp;</span>Формат выходных данных</a></span></li><li><span><a href=\"#Примечание\" data-toc-modified-id=\"Примечание-1.3\"><span class=\"toc-item-num\">1.3&nbsp;&nbsp;</span>Примечание</a></span></li><li><span><a href=\"#Пример-входных-данных\" data-toc-modified-id=\"Пример-входных-данных-1.4\"><span class=\"toc-item-num\">1.4&nbsp;&nbsp;</span>Пример входных данных</a></span></li><li><span><a href=\"#Пример-выходных-данных\" data-toc-modified-id=\"Пример-выходных-данных-1.5\"><span class=\"toc-item-num\">1.5&nbsp;&nbsp;</span>Пример выходных данных</a></span></li></ul></li></ul></div>"
   ]
  },
  {
   "cell_type": "markdown",
   "id": "77e5a4ee",
   "metadata": {},
   "source": [
    "#### 7. Группировка\n",
    "\n",
    "Вам дана информация о посадочных талонах.<br>\n",
    "Необходимо сгруппировать данные по вылетам - для каждого рейса определить, какие места были куплены.<br>\n",
    "Более формально: для одного flight_id собрать все возможные seat_no.<br>\n",
    "\n",
    "В этой задаче надо написать весь код самостоятельно (а не реализовывать какую-то конкретную функцию).<br>\n",
    "Решение должно само читать входные данные и писать ответ в заданном формате.<br>\n",
    "\n",
    "##### Формат входных данных\n",
    "\n",
    "На первой строчке записано натуральное число N.<br>\n",
    "На последующих N строчках записаны данные об очередном талоне.<br>\n",
    "Порядок полей в строчке: ticket_no, flight_id, boarding_no, seat_no.<br>\n",
    "Поле flight_id содержит натуральное число.<br>\n",
    "Поле seat_no содержит номер места.<br>\n",
    "Все поля разделены одной запятой. В самих данных запятых нет.<br>\n",
    "\n",
    "##### Формат выходных данных\n",
    "\n",
    "Пары строк - на первой строке очередной flight_id, а на второй строке все seat_no через запятую.<br>\n",
    "Выводить flight_id необходимо по возрастанию (как числа).<br>\n",
    "Номера мест seat_no внутри одного рейса оставить таким же, как и во входных данных.<br>\n",
    "\n",
    "##### Примечание\n",
    "\n",
    "Обратите внимание, что строчки и числа сравниваются по-разному.<br>\n",
    "Так, например, строка \"3\" больше строчки \"10\".<br>\n",
    "Иными словами в ответе должно быть 3,10 вместо \"10\",\"3\".<br>\n",
    "\n",
    "##### Пример входных данных\n",
    "\n",
    "5<br>\n",
    "EXGJGJ521,3,252st,10;C<br>\n",
    "2Jw2n5l,3,252st,16;F<br>\n",
    "KUIK2YL,1,Номер:327ggs,30;A<br>\n",
    "8XSOVGVNDQ,1,Номер:327ggs,51;A<br>\n",
    "DRXGH62d,5,7733d,62;A<br>\n",
    "\n",
    "##### Пример выходных данных\n",
    "\n",
    "1<br>\n",
    "30;A,51;A<br>\n",
    "3<br>\n",
    "10;C,16;F<br>\n",
    "5<br>\n",
    "62;A<br>"
   ]
  },
  {
   "cell_type": "code",
   "execution_count": 7,
   "id": "9de51715",
   "metadata": {},
   "outputs": [
    {
     "name": "stdout",
     "output_type": "stream",
     "text": [
      "5\n",
      "EXGJGJ521,3,252st,10;C\n",
      "2Jw2n5l,3,252st,16;F\n",
      "KUIK2YL,1,Номер:327ggs,30;A\n",
      "8XSOVGVNDQ,1,Номер:327ggs,51;A\n",
      "DRXGH62d,5,7733d,62;A\n",
      "1\n",
      "30;A,51;A\n",
      "3\n",
      "10;C,16;F\n",
      "5\n",
      "62;A\n"
     ]
    }
   ],
   "source": [
    "count = int(input(''))\n",
    "flights = []\n",
    "bilets = {}\n",
    "for row in range(count):\n",
    "    ticket_no, flight_id, boarding_no, seat_no = input().split(',')\n",
    "    flights.append(int(flight_id))\n",
    "    bilets[row] = ticket_no  + ',' + flight_id + ',' + boarding_no + ',' + seat_no\n",
    "flights.sort()\n",
    "unique = dict(zip(list(flights),[list(flights).count(i) for i in list(flights)]))\n",
    "for i in unique:\n",
    "    seat = []\n",
    "    print(i)\n",
    "    for value in bilets.values():\n",
    "        ticket_no, flight_id, boarding_no, seat_no = value.split(',')\n",
    "        if i == int(flight_id):\n",
    "            seat.append(seat_no)\n",
    "    print(','.join(seat))"
   ]
  },
  {
   "cell_type": "code",
   "execution_count": 1,
   "id": "bcd20ef6",
   "metadata": {},
   "outputs": [
    {
     "name": "stdout",
     "output_type": "stream",
     "text": [
      "5\n",
      "EXGJGJ521,3,252st,10;C\n",
      "2Jw2n5l,3,252st,16;F\n",
      "KUIK2YL,1,Номер:327ggs,30;A\n",
      "8XSOVGVNDQ,1,Номер:327ggs,51;A\n",
      "DRXGH62d,5,7733d,62;A\n"
     ]
    },
    {
     "data": {
      "text/plain": [
       "{0: ['EXGJGJ521', '3', '252st', '10;C'],\n",
       " 1: ['2Jw2n5l', '3', '252st', '16;F'],\n",
       " 2: ['KUIK2YL', '1', 'Номер:327ggs', '30;A'],\n",
       " 3: ['8XSOVGVNDQ', '1', 'Номер:327ggs', '51;A'],\n",
       " 4: ['DRXGH62d', '5', '7733d', '62;A']}"
      ]
     },
     "execution_count": 1,
     "metadata": {},
     "output_type": "execute_result"
    }
   ],
   "source": [
    "count = int(input(''))\n",
    "flights = []\n",
    "bilets = {}\n",
    "for row in range(count):\n",
    "    ticket = input().split(',')\n",
    "    flights.append(int(ticket[1]))\n",
    "    bilets[row] = ticket\n",
    "flights.sort()\n",
    "bilets"
   ]
  },
  {
   "cell_type": "code",
   "execution_count": 15,
   "id": "22885c9b",
   "metadata": {},
   "outputs": [
    {
     "data": {
      "text/plain": [
       "{0: ['EXGJGJ521', '3', '252st', '10;C'],\n",
       " 1: ['2Jw2n5l', '3', '252st', '16;F'],\n",
       " 2: ['KUIK2YL', '1', 'Номер:327ggs', '30;A'],\n",
       " 3: ['8XSOVGVNDQ', '1', 'Номер:327ggs', '51;A'],\n",
       " 4: ['DRXGH62d', '5', '7733d', '62;A']}"
      ]
     },
     "execution_count": 15,
     "metadata": {},
     "output_type": "execute_result"
    }
   ],
   "source": [
    "bilets"
   ]
  },
  {
   "cell_type": "code",
   "execution_count": 12,
   "id": "8a90eb2b",
   "metadata": {},
   "outputs": [
    {
     "data": {
      "text/plain": [
       "{1, 3, 5}"
      ]
     },
     "execution_count": 12,
     "metadata": {},
     "output_type": "execute_result"
    }
   ],
   "source": []
  },
  {
   "cell_type": "code",
   "execution_count": 17,
   "id": "5deba71d",
   "metadata": {},
   "outputs": [
    {
     "name": "stdout",
     "output_type": "stream",
     "text": [
      "1\n",
      "30;A,51;A\n",
      "3\n",
      "10;C,16;F\n",
      "5\n",
      "62;A\n"
     ]
    }
   ],
   "source": [
    "flights_set = set(flights)\n",
    "for key in flights_set:\n",
    "    seat = []\n",
    "    print(key)\n",
    "    for value in bilets.values():\n",
    "        if key == int(value[1]):\n",
    "            seat.append(value[3])\n",
    "    print(','.join(seat))"
   ]
  },
  {
   "cell_type": "code",
   "execution_count": 16,
   "id": "77bfaf5a",
   "metadata": {},
   "outputs": [
    {
     "data": {
      "text/plain": [
       "{1, 3, 5}"
      ]
     },
     "execution_count": 16,
     "metadata": {},
     "output_type": "execute_result"
    }
   ],
   "source": [
    "flights_set"
   ]
  },
  {
   "cell_type": "code",
   "execution_count": null,
   "id": "f5b30ffd",
   "metadata": {},
   "outputs": [],
   "source": [
    "#Алёна Беликова, [06.11.2021 15:36]\n",
    "N = int(input())\n",
    "find_list_flight_id = []\n",
    "for _ in range(N):\n",
    "    row = input().split(',')\n",
    "    flight_id = row[1]\n",
    "    seat_no = row[3]\n",
    "    if int(flight_id) not in find_list_flight_id:\n",
    "        find_list_flight_id.append(int(flight_id))\n",
    "find_list_flight_id.sort()"
   ]
  },
  {
   "cell_type": "code",
   "execution_count": null,
   "id": "b8ee5afa",
   "metadata": {},
   "outputs": [],
   "source": [
    "N = int(input())\n",
    "a = []\n",
    "b = []\n",
    "c = []\n",
    "f = []\n",
    "for i in range (N):\n",
    "    t = input().split(',') # вывел билет\n",
    "    a.append(int(t[1])) # это список флайт_ид\n",
    "    b.append(t[-1]) # это список с сит_но\n",
    "    if int(t[1]) not in f:\n",
    "        f.append(int(t[1])) # это список всех различных флайт_ид\n",
    "d = len(f) # кол-во различных флай_ид\n",
    "e = [] # сюда буду вводить заготовку под ответ, в формате [flight_id, [seat_no]]\n",
    "for x in range (0, d): # заполняю все первые элементы из flight_id\n",
    "    e.append([f[x]])   # чтоб каждая строчка начиналась с уникального flight_id\n",
    "for m in range (0, d):          # проверяю, если элемент из списка flight_id равен \n",
    "    for j in range (0, N):      # e[m][0], то в эту строчку добавляю seat_no \n",
    "        if a[j] == f[m]:        # соответствующее fligh_id из вводимых данных.\n",
    "            e[m].append(b[j])   #\n",
    "e2 = sorted(e) #здесь сортирую массив е, чтоб строчки располагались в порядке возрастания Fligh_id\n",
    "for z in range (0, d):          # сортирую элементы строк в е массиве, чтоб seat_no \n",
    "    e3 = sorted(e2[z][1:])      # расположились в порядке возрастания.\n",
    "    print (e2[z][0])            # вывел fligh_id\n",
    "    print (*e3, sep=',')        # вывел все seat_no соответствующие ему. "
   ]
  }
 ],
 "metadata": {
  "kernelspec": {
   "display_name": "Python 3",
   "language": "python",
   "name": "python3"
  },
  "language_info": {
   "codemirror_mode": {
    "name": "ipython",
    "version": 3
   },
   "file_extension": ".py",
   "mimetype": "text/x-python",
   "name": "python",
   "nbconvert_exporter": "python",
   "pygments_lexer": "ipython3",
   "version": "3.8.8"
  },
  "toc": {
   "base_numbering": 1,
   "nav_menu": {},
   "number_sections": true,
   "sideBar": true,
   "skip_h1_title": false,
   "title_cell": "Table of Contents",
   "title_sidebar": "Contents",
   "toc_cell": true,
   "toc_position": {},
   "toc_section_display": true,
   "toc_window_display": true
  },
  "varInspector": {
   "cols": {
    "lenName": 16,
    "lenType": 16,
    "lenVar": 40
   },
   "kernels_config": {
    "python": {
     "delete_cmd_postfix": "",
     "delete_cmd_prefix": "del ",
     "library": "var_list.py",
     "varRefreshCmd": "print(var_dic_list())"
    },
    "r": {
     "delete_cmd_postfix": ") ",
     "delete_cmd_prefix": "rm(",
     "library": "var_list.r",
     "varRefreshCmd": "cat(var_dic_list()) "
    }
   },
   "types_to_exclude": [
    "module",
    "function",
    "builtin_function_or_method",
    "instance",
    "_Feature"
   ],
   "window_display": false
  }
 },
 "nbformat": 4,
 "nbformat_minor": 5
}
