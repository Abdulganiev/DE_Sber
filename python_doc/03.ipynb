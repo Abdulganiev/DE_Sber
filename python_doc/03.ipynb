{
 "cells": [
  {
   "cell_type": "markdown",
   "id": "3d51adef",
   "metadata": {
    "toc": true
   },
   "source": [
    "<h1>Table of Contents<span class=\"tocSkip\"></span></h1>\n",
    "<div class=\"toc\"><ul class=\"toc-item\"><li><span><a href=\"#3.-Неоднородные-данные\" data-toc-modified-id=\"3.-Неоднородные-данные-1\"><span class=\"toc-item-num\">1&nbsp;&nbsp;</span>3. Неоднородные данные</a></span><ul class=\"toc-item\"><li><span><a href=\"#Входные-данные-представляют-собой-список-следующих-полей:\" data-toc-modified-id=\"Входные-данные-представляют-собой-список-следующих-полей:-1.1\"><span class=\"toc-item-num\">1.1&nbsp;&nbsp;</span>Входные данные представляют собой список следующих полей:</a></span></li><li><span><a href=\"#Формат-входных-данных\" data-toc-modified-id=\"Формат-входных-данных-1.2\"><span class=\"toc-item-num\">1.2&nbsp;&nbsp;</span>Формат входных данных</a></span></li><li><span><a href=\"#Формат-выходных-данных\" data-toc-modified-id=\"Формат-выходных-данных-1.3\"><span class=\"toc-item-num\">1.3&nbsp;&nbsp;</span>Формат выходных данных</a></span></li></ul></li><li><span><a href=\"#Пример-входных-данных\" data-toc-modified-id=\"Пример-входных-данных-2\"><span class=\"toc-item-num\">2&nbsp;&nbsp;</span>Пример входных данных</a></span></li><li><span><a href=\"#Пример-выходных-данных\" data-toc-modified-id=\"Пример-выходных-данных-3\"><span class=\"toc-item-num\">3&nbsp;&nbsp;</span>Пример выходных данных</a></span></li></ul></div>"
   ]
  },
  {
   "cell_type": "markdown",
   "id": "0bbcdd49",
   "metadata": {},
   "source": [
    "##### 3. Неоднородные данные\n",
    "\n",
    "Есть набор данных о посадочных талонах, который поступают от разных подрядчиков.  \n",
    "Поэтому сами данные неоднородны.  \n",
    "Вам необходимо реализовать логику, которая приведет все данные к одному формату.  \n",
    "\n",
    "###### Входные данные представляют собой список следующих полей:\n",
    "1. ticket_no  \n",
    "2. flight_id  \n",
    "3. boarding_no  \n",
    "4. seat_no  \n",
    "\n",
    "Ниже указано то, какие данные могут быть в каждом из полей и как это поле нужно преобразовать.  \n",
    "\n",
    "Поле ticket_no всегда содержит строчку, а поле flight_id всегда содержит число.  \n",
    "\n",
    "Возможные значения boarding_no:  \n",
    "1. Строчка, начинающееся с \"Номер:\"  \n",
    "2. Строчка (начинается не с \"Номер:\")  \n",
    "Необходимо все значения привести к строчке, без начала \"Номер:\"  \n",
    "\n",
    "Возможные значения seat_no:  \n",
    "1. Ряд и место, разделенные символом \";\"  \n",
    "2. Ряд и место слитно  \n",
    "Необходимо все значения привести к написанию, через точку с запятой (символ \";\").  \n",
    "Ряд - это целое число от 1 до 299. Число пишится без ведущих нулей - 1, а не 01.  \n",
    "Место - это буква от \"A\" до \"H\".  \n",
    "\n",
    "Ориентируйтесь на пример ввода-вывода при реализации необходимого преобразования входных данных.  \n",
    "\n",
    "В этой задаче надо написать весь код самостоятельно (а не реализовывать какую-то конкретную функцию).  \n",
    "Решение должно само читать входные данные и писать ответ в заданном формате.  \n",
    "\n",
    "###### Формат входных данных  \n",
    "\n",
    "На первой строчке записано натуральное число N.  \n",
    "На последующих N строчках записаны данные об очередном талоне.  \n",
    "Порядок полей в строчке: ticket_no, flight_id, boarding_no, seat_no.\n",
    "Все поля разделены одной запятой. В самих данных запятых нет.  \n",
    "\n",
    "###### Формат выходных данных\n",
    "\n",
    "Необходимо вывести N строчек.  \n",
    "В каждой строчке записаны исправленные поля ticket_no, flight_id, boarding_no, seat_no.  \n",
    "Все поля разделены одной запятой.  \n",
    "\n",
    "##### Пример входных данных\n",
    "\n",
    "5<br>\n",
    "EXGJGJ521,1,252st,10;C  \n",
    "2Jw2n5l,2,753ss,1F  \n",
    "KUIK2YL,3,Номер:327ggs,30A  \n",
    "8XSOVGVNDQ,4,Номер:mn001,51;A  \n",
    "DRXGH62d,5,7733d,62;A  \n",
    "\n",
    "\n",
    "##### Пример выходных данных\n",
    "\n",
    "EXGJGJ521,1,252st,10;C  \n",
    "2Jw2n5l,2,753ss,1;F  \n",
    "KUIK2YL,3,327ggs,30;A  \n",
    "8XSOVGVNDQ,4,mn001,51;A  \n",
    "DRXGH62d,5,7733d,62;A  "
   ]
  },
  {
   "cell_type": "code",
   "execution_count": 38,
   "id": "7b0effc1",
   "metadata": {},
   "outputs": [
    {
     "name": "stdout",
     "output_type": "stream",
     "text": [
      "3\n",
      "8XSOVGVNDQ,4,Номер:mn001,51;A\n",
      "8XSOVGVNDQ,4,mn001,51;A\n",
      "DRXGH62d,5,7733d,62;A\n",
      "DRXGH62d,5,7733d,62;A\n",
      "DRXGH62d,5,7733d,62;A\n",
      "DRXGH62d,5,7733d,62;A\n"
     ]
    }
   ],
   "source": [
    "count = int(input(''))\n",
    "for row in range(count):\n",
    "    ticket_no, flight_id, boarding_no, seat_no = input().split(',')\n",
    "    if ':' in boarding_no:\n",
    "        boarding_no1, boarding_no2 = boarding_no.split(':')\n",
    "        boarding_no = boarding_no2    \n",
    "    if ';' not in seat_no:\n",
    "        seat_no = str(int(seat_no[0:-1])) + ';' + seat_no[-1]\n",
    "    else:\n",
    "        seat_no1, seat_no2 = seat_no.split(';')\n",
    "        seat_no = str(int(seat_no1)) + ';' + seat_no2\n",
    "    print(ticket_no+','+flight_id+','+boarding_no+','+seat_no)"
   ]
  },
  {
   "cell_type": "code",
   "execution_count": null,
   "id": "6c303567",
   "metadata": {},
   "outputs": [],
   "source": [
    "EXGJGJ521,1,252st,10;C"
   ]
  }
 ],
 "metadata": {
  "kernelspec": {
   "display_name": "Python 3",
   "language": "python",
   "name": "python3"
  },
  "language_info": {
   "codemirror_mode": {
    "name": "ipython",
    "version": 3
   },
   "file_extension": ".py",
   "mimetype": "text/x-python",
   "name": "python",
   "nbconvert_exporter": "python",
   "pygments_lexer": "ipython3",
   "version": "3.8.8"
  },
  "toc": {
   "base_numbering": 1,
   "nav_menu": {},
   "number_sections": true,
   "sideBar": true,
   "skip_h1_title": false,
   "title_cell": "Table of Contents",
   "title_sidebar": "Contents",
   "toc_cell": true,
   "toc_position": {},
   "toc_section_display": true,
   "toc_window_display": true
  },
  "varInspector": {
   "cols": {
    "lenName": 16,
    "lenType": 16,
    "lenVar": 40
   },
   "kernels_config": {
    "python": {
     "delete_cmd_postfix": "",
     "delete_cmd_prefix": "del ",
     "library": "var_list.py",
     "varRefreshCmd": "print(var_dic_list())"
    },
    "r": {
     "delete_cmd_postfix": ") ",
     "delete_cmd_prefix": "rm(",
     "library": "var_list.r",
     "varRefreshCmd": "cat(var_dic_list()) "
    }
   },
   "types_to_exclude": [
    "module",
    "function",
    "builtin_function_or_method",
    "instance",
    "_Feature"
   ],
   "window_display": false
  }
 },
 "nbformat": 4,
 "nbformat_minor": 5
}
