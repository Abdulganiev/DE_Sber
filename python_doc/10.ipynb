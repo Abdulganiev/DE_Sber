{
 "cells": [
  {
   "cell_type": "markdown",
   "id": "59887f0e",
   "metadata": {},
   "source": [
    "#### 10. Статистика рейсов\n",
    "\n",
    "Статус рейса может принимать одно из следующих значений:<br>\n",
    "1. Scheduled. Рейс доступен для бронирования. Это происходит за 30 дней до плановой даты вылета; до этого запись о рейсе не существует в базе данных.<br>\n",
    "2. On Time. Рейс доступен для регистрации (за сутки до плановой даты вылета) и не задержан.<br>\n",
    "3. Delayed. Рейс доступен для регистрации (за сутки до плановой даты вылета), но задержан.<br>\n",
    "4. Departed. Самолет уже вылетел и находится в воздухе.<br>\n",
    "5. Arrived. Самолет прибыл в пункт назначения.<br>\n",
    "6. Cancelled. Рейс отменён.<br>\n",
    "\n",
    "Вам дан набор статусов для каждого из рейса. <br>\n",
    "Необходимо посчитать статистику - сколько рейсов в каждом из статусов.<br>\n",
    "\n",
    "В этой задаче надо написать весь код самостоятельно (а не реализовывать какую-то конкретную функцию).<br>\n",
    "Решение должно само читать входные данные и писать ответ в заданном формате.<br>\n",
    "\n",
    "##### Формат входных данных\n",
    "\n",
    "На первой строчке записано натуральное число N.<br>\n",
    "На последующих N строчках записаны данные об очередном рейсе.<br>\n",
    "Порядок полей в строчке: flight_id, status.<br>\n",
    "Поле flight_id содержит идентификатор рейса - натуральное число.<br>\n",
    "Поле status содержит статус рейса - строка, одно из 6 значений.<br>\n",
    "Все поля разделены одной запятой. В самих данных запятых нет.<br>\n",
    "\n",
    "##### Формат выходных данных\n",
    "\n",
    "6 строчек. На каждой строчке - целое число, соответвующее количеству рейсов со статусом с таким же номером.<br>\n",
    "То есть на первой строчке - количество рейсов со статусом Scheduled, на второй - со статусом On Time и т.д.<br>\n",
    "\n",
    "##### Пример входных данных\n",
    "\n",
    "3<br>\n",
    "103,Scheduled<br>\n",
    "432232,On Time<br>\n",
    "3051,Scheduled<br>\n",
    "\n",
    "##### Пример выходных данных\n",
    "\n",
    "2<br>\n",
    "1<br>\n",
    "0<br>\n",
    "0<br>\n",
    "0<br>\n",
    "0<br>"
   ]
  },
  {
   "cell_type": "code",
   "execution_count": 9,
   "id": "c05098a7",
   "metadata": {},
   "outputs": [
    {
     "name": "stdout",
     "output_type": "stream",
     "text": [
      "3\n",
      "103,Scheduled\n",
      "432232,On Time\n",
      "3051,Scheduled\n",
      "2\n",
      "1\n",
      "0\n",
      "0\n",
      "0\n",
      "0\n"
     ]
    }
   ],
   "source": [
    "count = int(input(''))\n",
    "stat = {\n",
    "    'Scheduled' : 0,\n",
    "    'On Time' : 0,\n",
    "    'Delayed' : 0,\n",
    "    'Departed' : 0,\n",
    "    'Arrived' : 0,\n",
    "    'Cancelled' : 0\n",
    "    }\n",
    "for row in range(count):\n",
    "    flight_id, status = input().split(',')\n",
    "    for key, value in stat.items():\n",
    "        if key == status:\n",
    "            stat[key] += 1\n",
    "for value in stat.values():\n",
    "    print(value)"
   ]
  },
  {
   "cell_type": "code",
   "execution_count": null,
   "id": "fe30b55c",
   "metadata": {},
   "outputs": [],
   "source": []
  }
 ],
 "metadata": {
  "kernelspec": {
   "display_name": "Python 3",
   "language": "python",
   "name": "python3"
  },
  "language_info": {
   "codemirror_mode": {
    "name": "ipython",
    "version": 3
   },
   "file_extension": ".py",
   "mimetype": "text/x-python",
   "name": "python",
   "nbconvert_exporter": "python",
   "pygments_lexer": "ipython3",
   "version": "3.8.8"
  }
 },
 "nbformat": 4,
 "nbformat_minor": 5
}
