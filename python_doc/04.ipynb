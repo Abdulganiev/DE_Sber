{
 "cells": [
  {
   "cell_type": "markdown",
   "id": "bcbe9eae",
   "metadata": {},
   "source": [
    "##### 4. Дубликаты\n",
    "\n",
    "К сожалению, обнаружилось, что в данных о посадочных талонах есть дубликаты (повторяющиеся значения).<br>\n",
    "Дубликатом считаются строки, у которых одинаковы одновременно поля ticket_no и flight_id.<br>\n",
    "\n",
    "Необходимо убрать дубликаты строк и оставить только первые вхождения.<br>\n",
    "Порядок записей менять не надо.<br>\n",
    "\n",
    "В этой задаче надо написать весь код самостоятельно (а не реализовывать какую-то конкретную функцию).<br>\n",
    "Решение должно само читать входные данные и писать ответ в заданном формате.<br>\n",
    "\n",
    "###### Формат входных данных\n",
    "\n",
    "На первой строчке записано натуральное число N.<br>\n",
    "На последующих N строчках записаны данные об очередном талоне.<br>\n",
    "Порядок полей в строчке: ticket_no, flight_id, boarding_no, seat_no.<br>\n",
    "Все поля разделены одной запятой. В самих данных запятых нет.<br>\n",
    "\n",
    "###### Формат выходных данных\n",
    "\n",
    "Необходимо вывести все исходные строчки, без дубликатов.<br>\n",
    "В каждой строчке записаны исходные поля ticket_no, flight_id, boarding_no, seat_no.<br>\n",
    "Все поля разделены одной запятой.<br>\n",
    "\n",
    "###### Пример входных данных\n",
    "\n",
    "7<br>\n",
    "EXGJGJ521,1,252st,10;C<br>\n",
    "EXGJGJ521,1,252st,11;C<br>\n",
    "2Jw2n5l,2,753ss,16;F<br>\n",
    "KUIK2YL,3,327ggs,30;A<br>\n",
    "KUIK2YL,3,328ggs,30;B<br>\n",
    "8XSOVGVNDQ,4,mn001,51;A<br>\n",
    "DRXGH62d,5,7733d,62;A<br>\n",
    "\n",
    "###### Пример выходных данных\n",
    "\n",
    "EXGJGJ521,1,252st,10;C<br>\n",
    "2Jw2n5l,2,753ss,16;F<br>\n",
    "KUIK2YL,3,327ggs,30;A<br>\n",
    "8XSOVGVNDQ,4,mn001,51;A<br>\n",
    "DRXGH62d,5,7733d,62;A<br>"
   ]
  },
  {
   "cell_type": "code",
   "execution_count": 20,
   "id": "3cd9efe4",
   "metadata": {},
   "outputs": [
    {
     "name": "stdout",
     "output_type": "stream",
     "text": [
      "7\n",
      "EXGJGJ521,1,252st,10;C\n",
      "EXGJGJ521,1,252st,11;C\n",
      "2Jw2n5l,2,753ss,16;F\n",
      "KUIK2YL,3,327ggs,30;A\n",
      "KUIK2YL,3,327ggs,30;B\n",
      "8XSOVGVNDQ,4,mn001,51;A\n",
      "DRXGH62d,5,7733d,62;A\n",
      "EXGJGJ521,1,252st,10;C\n",
      "2Jw2n5l,2,753ss,16;F\n",
      "KUIK2YL,3,327ggs,30;A\n",
      "8XSOVGVNDQ,4,mn001,51;A\n",
      "DRXGH62d,5,7733d,62;A\n"
     ]
    }
   ],
   "source": [
    "count = int(input(''))\n",
    "bilets = {}\n",
    "for row in range(count):\n",
    "    ticket_no, flight_id, boarding_no, seat_no = input().split(',')\n",
    "    if (ticket_no + ',' + flight_id) not in bilets:\n",
    "        bilets[ticket_no + ',' + flight_id] = boarding_no +',' + seat_no\n",
    "for key, value in bilets.items():\n",
    "    ticket_no, flight_id = key.split(',')\n",
    "    boarding_no, seat_no = value.split(',')\n",
    "    print(ticket_no+','+flight_id+','+boarding_no+','+seat_no)"
   ]
  }
 ],
 "metadata": {
  "kernelspec": {
   "display_name": "Python 3",
   "language": "python",
   "name": "python3"
  },
  "language_info": {
   "codemirror_mode": {
    "name": "ipython",
    "version": 3
   },
   "file_extension": ".py",
   "mimetype": "text/x-python",
   "name": "python",
   "nbconvert_exporter": "python",
   "pygments_lexer": "ipython3",
   "version": "3.8.8"
  }
 },
 "nbformat": 4,
 "nbformat_minor": 5
}
