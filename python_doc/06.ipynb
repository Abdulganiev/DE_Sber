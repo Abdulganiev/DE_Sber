{
 "cells": [
  {
   "cell_type": "markdown",
   "id": "bb9bf833",
   "metadata": {
    "toc": true
   },
   "source": [
    "<h1>Table of Contents<span class=\"tocSkip\"></span></h1>\n",
    "<div class=\"toc\"><ul class=\"toc-item\"><li><span><a href=\"#6.-Фильтрация\" data-toc-modified-id=\"6.-Фильтрация-1\"><span class=\"toc-item-num\">1&nbsp;&nbsp;</span>6. Фильтрация</a></span><ul class=\"toc-item\"><li><span><a href=\"#Формат-входных-данных\" data-toc-modified-id=\"Формат-входных-данных-1.1\"><span class=\"toc-item-num\">1.1&nbsp;&nbsp;</span>Формат входных данных</a></span></li><li><span><a href=\"#Формат-выходных-данных\" data-toc-modified-id=\"Формат-выходных-данных-1.2\"><span class=\"toc-item-num\">1.2&nbsp;&nbsp;</span>Формат выходных данных</a></span></li><li><span><a href=\"#Пример-входных-данных\" data-toc-modified-id=\"Пример-входных-данных-1.3\"><span class=\"toc-item-num\">1.3&nbsp;&nbsp;</span>Пример входных данных</a></span></li><li><span><a href=\"#Пример-выходных-данных\" data-toc-modified-id=\"Пример-выходных-данных-1.4\"><span class=\"toc-item-num\">1.4&nbsp;&nbsp;</span>Пример выходных данных</a></span></li></ul></li></ul></div>"
   ]
  },
  {
   "cell_type": "markdown",
   "id": "d8e0badb",
   "metadata": {},
   "source": [
    "#### 6. Фильтрация\n",
    "\n",
    "Задан набор flight_id, которые интересуют нас для дальнейшей работы.<br>\n",
    "Необходимо отфильтровать исходный набор данных по этим flight_id.<br>\n",
    "Другими словами вывести только те записи, у которых flight_id один из интересующих (см. формат входных данных).<br>\n",
    "\n",
    "В этой задаче надо написать весь код самостоятельно (а не реализовывать какую-то конкретную функцию).<br>\n",
    "Решение должно само читать входные данные и писать ответ в заданном формате.<br>\n",
    "\n",
    "##### Формат входных данных\n",
    "\n",
    "На первой строчке записаны интересующие flight_id, разделенные запятой.<br>\n",
    "На второй строчке записано натуральное число N.<br>\n",
    "На последующих N строчках записаны данные об очередном талоне.<br>\n",
    "Порядок полей в строчке: ticket_no, flight_id, boarding_no, seat_no.<br>\n",
    "Все поля разделены одной запятой. В самих данных запятых нет.\n",
    "\n",
    "##### Формат выходных данных\n",
    "\n",
    "Необходимо вывести те строчки, чьи flight_id подходят под условие.<br>\n",
    "Порядок строк оставить такой же, как и во входных данных.<br>\n",
    "\n",
    "##### Пример входных данных\n",
    "\n",
    "1,2<br>\n",
    "5<br>\n",
    "EXGJGJ521,1,252st,10;C<br>\n",
    "2Jw2n5l,2,753ss,16;F<br>\n",
    "KUIK2YL,3,327ggs,30;A<br>\n",
    "8XSOVGVNDQ,4,mn001,51;A<br>\n",
    "DRXGH62d,5,7733d,62;A<br>\n",
    "\n",
    "##### Пример выходных данных\n",
    "\n",
    "EXGJGJ521,1,252st,10;C<br>\n",
    "2Jw2n5l,2,753ss,16;F<br>"
   ]
  },
  {
   "cell_type": "code",
   "execution_count": 19,
   "id": "224d31ee",
   "metadata": {},
   "outputs": [
    {
     "name": "stdout",
     "output_type": "stream",
     "text": [
      "1,3,43\n",
      "3\n",
      "EXGJGJ521,4,252st,10;C\n",
      "EXGJGJ521,43,252st,10;C\n",
      "EXGJGJ521,3,252st,10;C\n",
      "EXGJGJ521,43,252st,10;C\n",
      "EXGJGJ521,3,252st,10;C\n"
     ]
    }
   ],
   "source": [
    "flight = input('').split(',')\n",
    "count = int(input(''))\n",
    "bilets = {}\n",
    "for row in range(count):\n",
    "    bilet = input()\n",
    "    ticket_no, flight_id, boarding_no, seat_no = bilet.split(',')\n",
    "    if flight.count(flight_id)>0 :\n",
    "        bilets[row] = bilet\n",
    "for value in bilets.values():\n",
    "    print(value)"
   ]
  },
  {
   "cell_type": "code",
   "execution_count": 13,
   "id": "76a61d6f",
   "metadata": {},
   "outputs": [
    {
     "name": "stdout",
     "output_type": "stream",
     "text": [
      "EXGJGJ521,3,252st,10;C\n",
      "EXGJGJ521,3,252st,10;C\n",
      "EXGJGJ521,1,252st,10;C\n"
     ]
    }
   ],
   "source": [
    "st=input().split(',')\n",
    "N=int(input())\n",
    "for i in range(0, N):\n",
    "    S=input().split(',')\n",
    "    for j in st:\n",
    "        #print(j)\n",
    "        #print(S[1])\n",
    "        if j==S[1]:\n",
    "            print(','.join(S))"
   ]
  },
  {
   "cell_type": "code",
   "execution_count": null,
   "id": "95121ce3",
   "metadata": {},
   "outputs": [],
   "source": []
  }
 ],
 "metadata": {
  "kernelspec": {
   "display_name": "Python 3",
   "language": "python",
   "name": "python3"
  },
  "language_info": {
   "codemirror_mode": {
    "name": "ipython",
    "version": 3
   },
   "file_extension": ".py",
   "mimetype": "text/x-python",
   "name": "python",
   "nbconvert_exporter": "python",
   "pygments_lexer": "ipython3",
   "version": "3.8.8"
  },
  "toc": {
   "base_numbering": 1,
   "nav_menu": {},
   "number_sections": true,
   "sideBar": true,
   "skip_h1_title": false,
   "title_cell": "Table of Contents",
   "title_sidebar": "Contents",
   "toc_cell": true,
   "toc_position": {},
   "toc_section_display": true,
   "toc_window_display": false
  },
  "varInspector": {
   "cols": {
    "lenName": 16,
    "lenType": 16,
    "lenVar": 40
   },
   "kernels_config": {
    "python": {
     "delete_cmd_postfix": "",
     "delete_cmd_prefix": "del ",
     "library": "var_list.py",
     "varRefreshCmd": "print(var_dic_list())"
    },
    "r": {
     "delete_cmd_postfix": ") ",
     "delete_cmd_prefix": "rm(",
     "library": "var_list.r",
     "varRefreshCmd": "cat(var_dic_list()) "
    }
   },
   "types_to_exclude": [
    "module",
    "function",
    "builtin_function_or_method",
    "instance",
    "_Feature"
   ],
   "window_display": false
  }
 },
 "nbformat": 4,
 "nbformat_minor": 5
}
