{
 "cells": [
  {
   "cell_type": "markdown",
   "id": "f3a608f4",
   "metadata": {
    "toc": true
   },
   "source": [
    "<h1>Table of Contents<span class=\"tocSkip\"></span></h1>\n",
    "<div class=\"toc\"><ul class=\"toc-item\"><li><span><a href=\"#2.-Вещественное-сравнение\" data-toc-modified-id=\"2.-Вещественное-сравнение-1\"><span class=\"toc-item-num\">1&nbsp;&nbsp;</span>2. Вещественное сравнение</a></span><ul class=\"toc-item\"><li><span><a href=\"#Шаблон-для-решения\" data-toc-modified-id=\"Шаблон-для-решения-1.1\"><span class=\"toc-item-num\">1.1&nbsp;&nbsp;</span>Шаблон для решения</a></span></li><li><span><a href=\"#Примечание\" data-toc-modified-id=\"Примечание-1.2\"><span class=\"toc-item-num\">1.2&nbsp;&nbsp;</span>Примечание</a></span></li><li><span><a href=\"#Комментарий-к-примерам\" data-toc-modified-id=\"Комментарий-к-примерам-1.3\"><span class=\"toc-item-num\">1.3&nbsp;&nbsp;</span>Комментарий к примерам</a></span></li><li><span><a href=\"#Пример-входных-данных-для-функции\" data-toc-modified-id=\"Пример-входных-данных-для-функции-1.4\"><span class=\"toc-item-num\">1.4&nbsp;&nbsp;</span>Пример входных данных для функции</a></span></li><li><span><a href=\"#Пример-результата-работы-функции\" data-toc-modified-id=\"Пример-результата-работы-функции-1.5\"><span class=\"toc-item-num\">1.5&nbsp;&nbsp;</span>Пример результата работы функции</a></span></li></ul></li></ul></div>"
   ]
  },
  {
   "cell_type": "code",
   "execution_count": 137,
   "id": "e4a1a2f7",
   "metadata": {},
   "outputs": [
    {
     "name": "stdout",
     "output_type": "stream",
     "text": [
      "Номер бронирования YKW89OEOCITYODO, забронирован 2018-07-24T14:40. Цена: 1000 руб. 00 коп.\n",
      "Номер бронирования XMV928G6WUX582L, забронирован 2020-09-09T06:45. Цена: 9500 руб. 30 коп.\n",
      "Номер бронирования 0PEZX4TUY3I4ZRZ, забронирован 2018-03-31T04:33. Цена: 5320 руб. 45 коп.\n",
      "Номер бронирования 0PEZX4TUY3I4ZRZ, забронирован 2018-03-31T04:33. Цена: 8320 руб. 45 коп.\n",
      "Номер бронирования 0PEZX4TUY3I4ZRZ, забронирован 2018-03-31T04:33. Цена: 8320 руб. 45 коп.\n",
      "Номер бронирования 0PEZX4TUY3I4ZRZ, забронирован 2018-03-31T04:33. Цена: 8320 руб. 45 коп.\n",
      "Номер бронирования 0PEZX4TUY3I4ZRZ, забронирован 2018-03-31T04:33. Цена: 8320 руб. 45 коп.\n",
      "Номер бронирования 0PEZX4TUY3I4ZRZ, забронирован 2018-03-31T04:33. Цена: 8320 руб. 45 коп.\n"
     ]
    }
   ],
   "source": [
    "file = open('01.txt', 'r')\n",
    "for line in file: \n",
    "    s = line.split(',')\n",
    "    if len(s) > 1:\n",
    "        print('Номер бронирования', s[0], end='')\n",
    "        print(', забронирован', s[1], end='')\n",
    "        total_amount = s[2].replace('\\n','').split('.')\n",
    "        print('. Цена:', total_amount[0], end='')\n",
    "        print(' руб.', total_amount[1], 'коп.')\n",
    "file.close()"
   ]
  },
  {
   "cell_type": "code",
   "execution_count": 138,
   "id": "a95e85c3",
   "metadata": {},
   "outputs": [
    {
     "name": "stdout",
     "output_type": "stream",
     "text": [
      "Номер бронирования YKW89OEOCITYODO, забронирован 2018-07-24T14:40. Цена: 1000 руб. 00 коп.\n",
      "Номер бронирования XMV928G6WUX582L, забронирован 2020-09-09T06:45. Цена: 9500 руб. 30 коп.\n",
      "Номер бронирования 0PEZX4TUY3I4ZRZ, забронирован 2018-03-31T04:33. Цена: 5320 руб. 45 коп.\n",
      "Номер бронирования 0PEZX4TUY3I4ZRZ, забронирован 2018-03-31T04:33. Цена: 8320 руб. 45 коп.\n",
      "Номер бронирования 0PEZX4TUY3I4ZRZ, забронирован 2018-03-31T04:33. Цена: 8320 руб. 45 коп.\n"
     ]
    }
   ],
   "source": [
    "file = open('01.txt', 'r')\n",
    "content = int(file.readline())\n",
    "i = 0\n",
    "for line in file: \n",
    "    s = line.split(',')\n",
    "    if len(s) > 1:\n",
    "        book_ref = s[0]\n",
    "        book_date = s[1]\n",
    "        total_amount = s[2].replace('\\n','').split('.')\n",
    "        rub = total_amount[0]\n",
    "        kop = total_amount[1]\n",
    "        print(f'Номер бронирования {book_ref}, забронирован {book_date}. Цена: {rub} руб. {kop} коп.')\n",
    "        i += 1\n",
    "    if content == i:\n",
    "        break\n",
    "file.close()"
   ]
  },
  {
   "cell_type": "code",
   "execution_count": 1,
   "id": "a17fe34f",
   "metadata": {},
   "outputs": [
    {
     "name": "stdout",
     "output_type": "stream",
     "text": [
      "1\n",
      "1\n"
     ]
    },
    {
     "ename": "ValueError",
     "evalue": "not enough values to unpack (expected 3, got 1)",
     "output_type": "error",
     "traceback": [
      "\u001b[1;31m---------------------------------------------------------------------------\u001b[0m",
      "\u001b[1;31mValueError\u001b[0m                                Traceback (most recent call last)",
      "\u001b[1;32m<ipython-input-1-20b595eeefcb>\u001b[0m in \u001b[0;36m<module>\u001b[1;34m\u001b[0m\n\u001b[0;32m      1\u001b[0m \u001b[0mcount\u001b[0m \u001b[1;33m=\u001b[0m \u001b[0mint\u001b[0m\u001b[1;33m(\u001b[0m\u001b[0minput\u001b[0m\u001b[1;33m(\u001b[0m\u001b[1;33m)\u001b[0m\u001b[1;33m)\u001b[0m\u001b[1;33m\u001b[0m\u001b[1;33m\u001b[0m\u001b[0m\n\u001b[0;32m      2\u001b[0m \u001b[1;32mfor\u001b[0m \u001b[0mrow\u001b[0m \u001b[1;32min\u001b[0m \u001b[0mrange\u001b[0m\u001b[1;33m(\u001b[0m\u001b[0mcount\u001b[0m\u001b[1;33m)\u001b[0m\u001b[1;33m:\u001b[0m\u001b[1;33m\u001b[0m\u001b[1;33m\u001b[0m\u001b[0m\n\u001b[1;32m----> 3\u001b[1;33m     \u001b[0mbook_ref\u001b[0m\u001b[1;33m,\u001b[0m \u001b[0mbook_date\u001b[0m\u001b[1;33m,\u001b[0m \u001b[0mtotal_amount\u001b[0m \u001b[1;33m=\u001b[0m \u001b[0minput\u001b[0m\u001b[1;33m(\u001b[0m\u001b[1;33m)\u001b[0m\u001b[1;33m.\u001b[0m\u001b[0msplit\u001b[0m\u001b[1;33m(\u001b[0m\u001b[1;34m','\u001b[0m\u001b[1;33m)\u001b[0m\u001b[1;33m\u001b[0m\u001b[1;33m\u001b[0m\u001b[0m\n\u001b[0m\u001b[0;32m      4\u001b[0m     \u001b[0mrub\u001b[0m\u001b[1;33m,\u001b[0m \u001b[0mkop\u001b[0m \u001b[1;33m=\u001b[0m \u001b[0mtotal_amount\u001b[0m\u001b[1;33m.\u001b[0m\u001b[0msplit\u001b[0m\u001b[1;33m(\u001b[0m\u001b[1;34m'.'\u001b[0m\u001b[1;33m)\u001b[0m\u001b[1;33m\u001b[0m\u001b[1;33m\u001b[0m\u001b[0m\n\u001b[0;32m      5\u001b[0m     \u001b[0mprint\u001b[0m\u001b[1;33m(\u001b[0m\u001b[1;34mf'Номер бронирования {book_ref}, забронирован {book_date}. Цена: {rub} руб. {kop} коп.'\u001b[0m\u001b[1;33m)\u001b[0m\u001b[1;33m\u001b[0m\u001b[1;33m\u001b[0m\u001b[0m\n",
      "\u001b[1;31mValueError\u001b[0m: not enough values to unpack (expected 3, got 1)"
     ]
    }
   ],
   "source": [
    "count = int(input())\n",
    "for row in range(count):\n",
    "    book_ref, book_date, total_amount = input().split(',')\n",
    "    rub, kop = total_amount.split('.')\n",
    "    print(f'Номер бронирования {book_ref}, забронирован {book_date}. Цена: {rub} руб. {kop} коп.')"
   ]
  },
  {
   "cell_type": "markdown",
   "id": "a4280b67",
   "metadata": {},
   "source": [
    "#### 2. Вещественное сравнение\n",
    "Необходимо реализовать функцию is_bigger(num1, num2, eps).\n",
    "Эта функция принимает 3 параметра:\n",
    "1. num1 - первое вещественное число\n",
    "2. num2 - второе вещественное число\n",
    "3. eps - эпсилон (вещественное число).\n",
    "\n",
    "Эта функция возвращает логическое True, если число num1 больше или равно num2 хотя бы на епсилон. \n",
    "В противном случае она должна вернуть логическое False.\n",
    "\n",
    "В данной задаче не надо читать или писать данные.\n",
    "Вместо этого нужно только реализовать функцию.\n",
    "\n",
    "##### Шаблон для решения\n",
    "\n",
    "def is_bigger(num1, num2, eps):  \n",
    "      '''Вставьте ваш код здесь'''\n",
    "\n",
    "\n",
    "##### Примечание\n",
    "В качестве отступа внутри функции используется 4 пробела.\n",
    "В целом при сравнении вещественных чисел стоит добавлять точность eps, так как из-за особенностей их представления в компьютере возможны погрешности.\n",
    "\n",
    "##### Комментарий к примерам\n",
    "Ниже приведены примеры для лучшего понимания условия задачи.\n",
    "Однако не стоит ориентироваться на них, как на пример данных, которые нужно читать или выводить, потому что в этой задаче не надо ничего читать и писать.\n",
    "Нужно только реализовать указанную функцию.\n",
    "Это означает, что весь код решения должен находиться внутри тела функции и возвращать требуемый результат через инструкцию return. Операции считывания данных (например, input()) или их вывода (например, print()) писать не надо.\n",
    "Нужно оперировать внутри функции только аргументами, которые подставляются в функцию автоматически.\n",
    "\n",
    "##### Пример входных данных для функции\n",
    "\n",
    "0.6 0.5 0.01  \n",
    "1.0 0.9 0.3  \n",
    "1.0 0.9 0.1\n",
    "\n",
    "##### Пример результата работы функции\n",
    "\n",
    "True  \n",
    "False  \n",
    "True"
   ]
  },
  {
   "cell_type": "code",
   "execution_count": 427,
   "id": "04f4bb35",
   "metadata": {},
   "outputs": [],
   "source": [
    "def is_bigger(num1, num2, eps):\n",
    "    eps_str = str(eps)\n",
    "    if 'e' in eps_str:\n",
    "        a, b = eps_str.split('e-')\n",
    "        c = int(b)\n",
    "    else:    \n",
    "        c = abs(eps_str.find('.') - len(eps_str)) - 1\n",
    "    print(round((num1-num2), c), ' ', eps, ' ', c)\n",
    "    if num1 < num2:\n",
    "        return False\n",
    "    elif num1 == num2:\n",
    "        return True\n",
    "    elif round((num1-num2), c) >= eps:\n",
    "        return True\n",
    "    else:\n",
    "        return False"
   ]
  },
  {
   "cell_type": "code",
   "execution_count": 416,
   "id": "caab9783",
   "metadata": {},
   "outputs": [
    {
     "data": {
      "text/plain": [
       "True"
      ]
     },
     "execution_count": 416,
     "metadata": {},
     "output_type": "execute_result"
    }
   ],
   "source": [
    "is_bigger(100, 1, 99.00000000000001)"
   ]
  },
  {
   "cell_type": "code",
   "execution_count": 383,
   "id": "2ef8de2d",
   "metadata": {},
   "outputs": [
    {
     "data": {
      "text/plain": [
       "99.00000000000001"
      ]
     },
     "execution_count": 383,
     "metadata": {},
     "output_type": "execute_result"
    }
   ],
   "source": [
    "c = 99.00000000000001\n",
    "c"
   ]
  },
  {
   "cell_type": "code",
   "execution_count": 422,
   "id": "71d77651",
   "metadata": {},
   "outputs": [
    {
     "data": {
      "text/plain": [
       "False"
      ]
     },
     "execution_count": 422,
     "metadata": {},
     "output_type": "execute_result"
    }
   ],
   "source": [
    "is_bigger(1.0, 1.1, 0)"
   ]
  },
  {
   "cell_type": "code",
   "execution_count": 428,
   "id": "49771737",
   "metadata": {},
   "outputs": [
    {
     "name": "stdout",
     "output_type": "stream",
     "text": [
      "0.0   1   1\n"
     ]
    },
    {
     "data": {
      "text/plain": [
       "False"
      ]
     },
     "execution_count": 428,
     "metadata": {},
     "output_type": "execute_result"
    }
   ],
   "source": [
    "is_bigger(1.0, 0.99, 1)"
   ]
  },
  {
   "cell_type": "code",
   "execution_count": 432,
   "id": "b3cd9cf6",
   "metadata": {},
   "outputs": [
    {
     "data": {
      "text/plain": [
       "True"
      ]
     },
     "execution_count": 432,
     "metadata": {},
     "output_type": "execute_result"
    }
   ],
   "source": [
    "is_bigger(1.0, 0.9999999999999, 0.00000000005)"
   ]
  },
  {
   "cell_type": "code",
   "execution_count": 442,
   "id": "f82a931f",
   "metadata": {},
   "outputs": [
    {
     "name": "stdout",
     "output_type": "stream",
     "text": [
      "2.00000000006\n",
      "5.99999999954\n"
     ]
    },
    {
     "data": {
      "text/plain": [
       "True"
      ]
     },
     "execution_count": 442,
     "metadata": {},
     "output_type": "execute_result"
    }
   ],
   "source": [
    "is_bigger(10.0, 7.9999999996, 2.00000000006)"
   ]
  },
  {
   "cell_type": "code",
   "execution_count": 430,
   "id": "ab225608",
   "metadata": {},
   "outputs": [
    {
     "data": {
      "text/plain": [
       "True"
      ]
     },
     "execution_count": 430,
     "metadata": {},
     "output_type": "execute_result"
    }
   ],
   "source": [
    "is_bigger(999999.0, 1.0, 0.00001)"
   ]
  },
  {
   "cell_type": "code",
   "execution_count": null,
   "id": "2e644768",
   "metadata": {},
   "outputs": [],
   "source": []
  },
  {
   "cell_type": "code",
   "execution_count": null,
   "id": "79e19f1c",
   "metadata": {},
   "outputs": [],
   "source": []
  },
  {
   "cell_type": "code",
   "execution_count": null,
   "id": "5e23fbad",
   "metadata": {},
   "outputs": [],
   "source": []
  },
  {
   "cell_type": "code",
   "execution_count": null,
   "id": "12173ff2",
   "metadata": {},
   "outputs": [],
   "source": []
  },
  {
   "cell_type": "code",
   "execution_count": 457,
   "id": "f9842d88",
   "metadata": {},
   "outputs": [],
   "source": [
    "def is_bigger(num1, num2, eps):\n",
    "    if (float(num1) -  float(num2)) >= float(eps):\n",
    "        print(float(eps))\n",
    "        print(float(num1) -  float(num2))\n",
    "        return True\n",
    "    else:\n",
    "        print(float(eps))\n",
    "        print(float(num1) -  float(num2))        \n",
    "        return False"
   ]
  },
  {
   "cell_type": "code",
   "execution_count": 458,
   "id": "ee8cd45e",
   "metadata": {},
   "outputs": [
    {
     "name": "stdout",
     "output_type": "stream",
     "text": [
      "0.01\n",
      "0.09999999999999998\n"
     ]
    },
    {
     "data": {
      "text/plain": [
       "True"
      ]
     },
     "execution_count": 458,
     "metadata": {},
     "output_type": "execute_result"
    }
   ],
   "source": [
    "is_bigger(0.6, 0.5, 0.01)"
   ]
  },
  {
   "cell_type": "code",
   "execution_count": 459,
   "id": "ce544f8a",
   "metadata": {},
   "outputs": [
    {
     "name": "stdout",
     "output_type": "stream",
     "text": [
      "0.3\n",
      "0.09999999999999998\n"
     ]
    },
    {
     "data": {
      "text/plain": [
       "False"
      ]
     },
     "execution_count": 459,
     "metadata": {},
     "output_type": "execute_result"
    }
   ],
   "source": [
    "is_bigger(1.0, 0.9, 0.3)"
   ]
  },
  {
   "cell_type": "code",
   "execution_count": 451,
   "id": "caeda17c",
   "metadata": {},
   "outputs": [
    {
     "data": {
      "text/plain": [
       "False"
      ]
     },
     "execution_count": 451,
     "metadata": {},
     "output_type": "execute_result"
    }
   ],
   "source": [
    "is_bigger(1.0, 0.9, 0.1)"
   ]
  }
 ],
 "metadata": {
  "kernelspec": {
   "display_name": "Python 3",
   "language": "python",
   "name": "python3"
  },
  "language_info": {
   "codemirror_mode": {
    "name": "ipython",
    "version": 3
   },
   "file_extension": ".py",
   "mimetype": "text/x-python",
   "name": "python",
   "nbconvert_exporter": "python",
   "pygments_lexer": "ipython3",
   "version": "3.8.8"
  },
  "toc": {
   "base_numbering": 1,
   "nav_menu": {},
   "number_sections": true,
   "sideBar": true,
   "skip_h1_title": false,
   "title_cell": "Table of Contents",
   "title_sidebar": "Contents",
   "toc_cell": true,
   "toc_position": {},
   "toc_section_display": true,
   "toc_window_display": true
  },
  "varInspector": {
   "cols": {
    "lenName": 16,
    "lenType": 16,
    "lenVar": 40
   },
   "kernels_config": {
    "python": {
     "delete_cmd_postfix": "",
     "delete_cmd_prefix": "del ",
     "library": "var_list.py",
     "varRefreshCmd": "print(var_dic_list())"
    },
    "r": {
     "delete_cmd_postfix": ") ",
     "delete_cmd_prefix": "rm(",
     "library": "var_list.r",
     "varRefreshCmd": "cat(var_dic_list()) "
    }
   },
   "types_to_exclude": [
    "module",
    "function",
    "builtin_function_or_method",
    "instance",
    "_Feature"
   ],
   "window_display": false
  }
 },
 "nbformat": 4,
 "nbformat_minor": 5
}
