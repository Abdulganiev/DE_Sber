{
 "cells": [
  {
   "cell_type": "markdown",
   "id": "7c38df96",
   "metadata": {},
   "source": [
    "#### 9. Полеты по расписанию\n",
    "\n",
    "Вам даны данные о рейсах:<br>\n",
    "1. scheduled_departure - Время вылета по расписанию<br>\n",
    "2. scheduled_arrival - Время прилёта по расписанию<br>\n",
    "3. actual_departure - Фактическое время вылета<br>\n",
    "4. actual_arrival - Фактическое время прилёта<br>\n",
    "\n",
    "Считается, что самолет выполнил рейс по расписанию, если фактическое время отличаются меньше, чем на 30 минут от времени по расписанию (надо учитывать разницу как для вылета, так и прилета).<br>\n",
    "Другими словами и для вылета и для прилета разница во времени должна быть меньше, чем 1800 секунд.<br>\n",
    "Определите по данным, успел ли совершиться полет по расписанию.<br>\n",
    "\n",
    "В этой задаче надо написать весь код самостоятельно (а не реализовывать какую-то конкретную функцию).<br>\n",
    "Решение должно само читать входные данные и писать ответ в заданном формате.<br>\n",
    "\n",
    "##### Формат входных данных\n",
    "\n",
    "На первой строчке записано натуральное число N.<br>\n",
    "На последующих N строчках записаны данные об очередном полете.<br>\n",
    "Порядок полей в строчке: scheduled_departure, scheduled_arrival, actual_departure, actual_arrival.<br>\n",
    "Все поля разделены одной запятой. В самих данных запятых нет.<br>\n",
    "\n",
    "Время во всех полях записано в формате: ГГГГ-ММ-ДДTЧЧ:ММ<br>\n",
    "\n",
    "##### Формат выходных данных\n",
    "\n",
    "N строчек. На каждой строчке Yes, если соответствующий рейс успел по расписанию и No наоборот.<br>\n",
    "\n",
    "##### Пример входных данных\n",
    "\n",
    "3<br>\n",
    "2020-07-18T16:00,2020-07-18T19:00,2020-07-18T16:20,2020-07-18T19:10<br>\n",
    "2020-07-18T16:00,2020-07-18T19:50,2020-07-18T16:20,2020-07-18T19:10<br>\n",
    "2020-07-18T16:00,2020-07-18T19:00,2020-07-18T16:20,2020-07-18T19:50<br>\n",
    "\n",
    "##### Пример выходных данных\n",
    "\n",
    "Yes<br>\n",
    "No<br>\n",
    "No<br>"
   ]
  },
  {
   "cell_type": "code",
   "execution_count": 40,
   "id": "72a511fa",
   "metadata": {},
   "outputs": [
    {
     "name": "stdout",
     "output_type": "stream",
     "text": [
      "3\n",
      "2020-07-18T16:00,2020-07-18T19:00,2020-07-18T16:20,2020-07-18T19:10\n",
      "Yes\n",
      "2020-07-18T16:00,2020-07-18T19:50,2020-07-18T16:20,2020-07-18T19:10\n",
      "No\n",
      "2020-07-18T16:00,2020-07-18T19:00,2020-07-18T16:20,2020-07-18T19:50\n",
      "No\n"
     ]
    }
   ],
   "source": [
    "import datetime\n",
    "count = int(input(''))\n",
    "for row in range(count):\n",
    "    scheduled_departure, scheduled_arrival, actual_departure, actual_arrival = input().split(',')\n",
    "    \n",
    "    scheduled_departure = datetime.datetime.strptime(scheduled_departure, '%Y-%m-%dT%H:%M')\n",
    "    scheduled_arrival = datetime.datetime.strptime(scheduled_arrival, '%Y-%m-%dT%H:%M')\n",
    "    actual_departure = datetime.datetime.strptime(actual_departure, '%Y-%m-%dT%H:%M')\n",
    "    actual_arrival = datetime.datetime.strptime(actual_arrival, '%Y-%m-%dT%H:%M')\n",
    "    \n",
    "    delta_departure = actual_departure - scheduled_departure\n",
    "    delta_arrival = actual_arrival - scheduled_arrival\n",
    "    \n",
    "    if (delta_departure.seconds < 1800) and (delta_arrival.seconds < 1800):\n",
    "        print('Yes')\n",
    "    else:\n",
    "        print('No')"
   ]
  },
  {
   "cell_type": "code",
   "execution_count": null,
   "id": "63a46299",
   "metadata": {},
   "outputs": [],
   "source": [
    "count = 1 #int(input(''))\n",
    "for row in range(count):\n",
    "    c = '2020-07-18T16:00,2020-07-18T19:00,2020-07-18T16:20,2020-07-18T19:10'\n",
    "    scheduled_departure, scheduled_arrival, actual_departure, actual_arrival = input().split(',')\n",
    "    \n",
    "    sd_d,  = scheduled_departure.split('T')\n",
    "    sa_d,  = scheduled_arrival.split('T')\n",
    "    ad_d,  = actual_departure.split('T')\n",
    "    aa_d,  = actual_arrival.split('T')\n",
    "    \n",
    "    if (delta_departure.seconds < 1800) and (delta_arrival.seconds < 1800):\n",
    "        print('Yes')\n",
    "    else:\n",
    "        print('No')"
   ]
  }
 ],
 "metadata": {
  "kernelspec": {
   "display_name": "Python 3",
   "language": "python",
   "name": "python3"
  },
  "language_info": {
   "codemirror_mode": {
    "name": "ipython",
    "version": 3
   },
   "file_extension": ".py",
   "mimetype": "text/x-python",
   "name": "python",
   "nbconvert_exporter": "python",
   "pygments_lexer": "ipython3",
   "version": "3.8.8"
  }
 },
 "nbformat": 4,
 "nbformat_minor": 5
}
