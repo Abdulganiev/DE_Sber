{
 "cells": [
  {
   "cell_type": "markdown",
   "id": "d5d24335",
   "metadata": {},
   "source": [
    "#### 8. Общие идентификаторы\n",
    "\n",
    "Обнаружилось, что несколько аналитиков продублировали работу друг друга.<br>\n",
    "Теперь нужно понять, какие рейсы обработали несколько раз.<br>\n",
    "\n",
    "Вам дано несколько наборов идентификаторов рейсов (набор flight_id).<br>\n",
    "Необходимо определить те идентификаторы, которые присутствуют в каждом наборе.<br>\n",
    "\n",
    "В этой задаче надо написать весь код самостоятельно (а не реализовывать какую-то конкретную функцию).<br>\n",
    "Решение должно само читать входные данные и писать ответ в заданном формате.<br>\n",
    "\n",
    "##### Формат выходных данных\n",
    "\n",
    "На первой строчке записано натуральное число N.<br>\n",
    "На последующих N строчках записаны идентификаторы тех рейсов, которые обработал очередной аналитик.<br>\n",
    "На одной строчке все идентификаторы записаны через запятую. В самих данных запятых нет.<br>\n",
    "Каждый идентификатор рейса (flight_id) - это натуральное число.<br>\n",
    "\n",
    "##### Формат выходных данных\n",
    "\n",
    "Одна строчка. Выведите все общие идентификаторы в порядке возрастания их значения (как числа).<br>\n",
    "В качестве разделителя используйте запятую.<br>\n",
    "\n",
    "##### Примечание\n",
    "\n",
    "Обратите внимание, что строчки и числа сравниваются по-разному.<br>\n",
    "Так, например, строка \"3\" больше строчки \"10\".<br>\n",
    "Иными словами в ответе должно быть 3,10 вместо \"10\",\"3\".<br>\n",
    "\n",
    "##### Пример входных данных\n",
    "\n",
    "3<br>\n",
    "7,3,2<br>\n",
    "1,2,3,4,5<br>\n",
    "3,2<br>\n",
    "\n",
    "##### Пример выходных данных\n",
    "\n",
    "2,3"
   ]
  },
  {
   "cell_type": "code",
   "execution_count": null,
   "id": "8a858777",
   "metadata": {},
   "outputs": [],
   "source": [
    "count = int(input(''))\n",
    "ids = {}\n",
    "for row in range(count):\n",
    "    id = input().split(',')\n",
    "    id = list(map(int, id))\n",
    "    id = set(id)\n",
    "    ids[row] = id\n",
    "id_set = set()\n",
    "for value in ids.values():\n",
    "    id_set = value\n",
    "    id_set.intersection(value)\n",
    "itog = list(id_set)\n",
    "itog.sort()\n",
    "if count>1:\n",
    "    print(*itog, sep=',')"
   ]
  },
  {
   "cell_type": "code",
   "execution_count": 6,
   "id": "a2cc6a4c",
   "metadata": {},
   "outputs": [
    {
     "name": "stdout",
     "output_type": "stream",
     "text": [
      "1\n",
      "12\n",
      "12\n"
     ]
    }
   ],
   "source": [
    "count = int(input(''))\n",
    "id_set = set()\n",
    "for row in range(count):\n",
    "    id = input().split(',')\n",
    "    if row==0:\n",
    "        id_set = set(list(map(int, id)))\n",
    "    id_set = id_set.intersection(set(list(map(int, id))))\n",
    "itog = list(id_set)\n",
    "itog.sort()\n",
    "print(*itog, sep=',')"
   ]
  },
  {
   "cell_type": "code",
   "execution_count": null,
   "id": "315595d6",
   "metadata": {},
   "outputs": [],
   "source": [
    "id_set"
   ]
  },
  {
   "cell_type": "code",
   "execution_count": null,
   "id": "f2989624",
   "metadata": {},
   "outputs": [],
   "source": [
    "id_set"
   ]
  },
  {
   "cell_type": "code",
   "execution_count": null,
   "id": "e6eeb125",
   "metadata": {},
   "outputs": [],
   "source": [
    "print(*id_set, sep=',')"
   ]
  },
  {
   "cell_type": "code",
   "execution_count": null,
   "id": "5830b28c",
   "metadata": {},
   "outputs": [],
   "source": [
    "itog"
   ]
  },
  {
   "cell_type": "code",
   "execution_count": null,
   "id": "441e99c1",
   "metadata": {},
   "outputs": [],
   "source": [
    "count = int(input(''))\n",
    "ids = {}\n",
    "for row in range(count):\n",
    "    id = input().split(',')\n",
    "    id = list(map(int, id))\n",
    "    id = set(id)\n",
    "    ids[row] = id"
   ]
  },
  {
   "cell_type": "code",
   "execution_count": null,
   "id": "3098526a",
   "metadata": {},
   "outputs": [],
   "source": [
    "ids"
   ]
  },
  {
   "cell_type": "code",
   "execution_count": null,
   "id": "57f3b31b",
   "metadata": {},
   "outputs": [],
   "source": [
    "id_set = set()\n",
    "for value in ids.values():\n",
    "    id_set = value\n",
    "    id_set.intersection(value)\n",
    "id_set = list(id_set)\n",
    "id_set.sort()\n",
    "print(','.join(map(str, id_set)))"
   ]
  },
  {
   "cell_type": "code",
   "execution_count": null,
   "id": "66a37542",
   "metadata": {},
   "outputs": [],
   "source": [
    "id_set"
   ]
  },
  {
   "cell_type": "code",
   "execution_count": null,
   "id": "77ac0b64",
   "metadata": {},
   "outputs": [],
   "source": []
  },
  {
   "cell_type": "code",
   "execution_count": null,
   "id": "4e1856b1",
   "metadata": {},
   "outputs": [],
   "source": []
  },
  {
   "cell_type": "code",
   "execution_count": null,
   "id": "100554cc",
   "metadata": {},
   "outputs": [],
   "source": []
  },
  {
   "cell_type": "code",
   "execution_count": null,
   "id": "d77b6018",
   "metadata": {},
   "outputs": [],
   "source": []
  },
  {
   "cell_type": "code",
   "execution_count": null,
   "id": "c6ea6785",
   "metadata": {},
   "outputs": [],
   "source": [
    "count = int(input(''))\n",
    "ids = []\n",
    "for row in range(count):\n",
    "    id = input().split(',')\n",
    "    id = list(map(int, id))\n",
    "    ids += id\n",
    "unique = dict(zip(list(ids),[list(ids).count(i) for i in list(ids)]))\n",
    "duplicates = []\n",
    "for key, value in unique.items():\n",
    "    if int(value)>1:\n",
    "        duplicates.append(int(key))\n",
    "duplicates.sort()\n",
    "print(','.join(map(str, duplicates)))"
   ]
  },
  {
   "cell_type": "code",
   "execution_count": null,
   "id": "cb4bf0de",
   "metadata": {},
   "outputs": [],
   "source": [
    "duplicates"
   ]
  },
  {
   "cell_type": "code",
   "execution_count": null,
   "id": "62223e9b",
   "metadata": {},
   "outputs": [],
   "source": [
    "count = int(input(''))\n",
    "ids = []\n",
    "for row in range(count):\n",
    "    id = input().split(',')\n",
    "    ids += id"
   ]
  },
  {
   "cell_type": "code",
   "execution_count": null,
   "id": "04f9e5c3",
   "metadata": {},
   "outputs": [],
   "source": [
    "ids.sort()\n",
    "ids"
   ]
  },
  {
   "cell_type": "code",
   "execution_count": null,
   "id": "71482586",
   "metadata": {},
   "outputs": [],
   "source": [
    "ids1 = list(map(int, ids))\n",
    "ids1"
   ]
  },
  {
   "cell_type": "code",
   "execution_count": null,
   "id": "dbcebd32",
   "metadata": {},
   "outputs": [],
   "source": [
    "unique = dict(zip(list(ids1),[list(ids1).count(i) for i in list(ids1)]))"
   ]
  },
  {
   "cell_type": "code",
   "execution_count": null,
   "id": "b7a32fe0",
   "metadata": {},
   "outputs": [],
   "source": [
    "unique"
   ]
  },
  {
   "cell_type": "code",
   "execution_count": null,
   "id": "7030d94e",
   "metadata": {},
   "outputs": [],
   "source": [
    "duplicates = []\n",
    "for key, value in unique.items():\n",
    "    if int(value)>1:\n",
    "        duplicates.append(int(key))\n",
    "duplicates.sort()\n",
    "print(','.join(map(str, duplicates)))"
   ]
  },
  {
   "cell_type": "code",
   "execution_count": null,
   "id": "faefa198",
   "metadata": {},
   "outputs": [],
   "source": [
    "duplicates"
   ]
  },
  {
   "cell_type": "code",
   "execution_count": null,
   "id": "f28ac717",
   "metadata": {},
   "outputs": [],
   "source": []
  }
 ],
 "metadata": {
  "kernelspec": {
   "display_name": "Python 3",
   "language": "python",
   "name": "python3"
  },
  "language_info": {
   "codemirror_mode": {
    "name": "ipython",
    "version": 3
   },
   "file_extension": ".py",
   "mimetype": "text/x-python",
   "name": "python",
   "nbconvert_exporter": "python",
   "pygments_lexer": "ipython3",
   "version": "3.8.8"
  }
 },
 "nbformat": 4,
 "nbformat_minor": 5
}
