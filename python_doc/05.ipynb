{
 "cells": [
  {
   "cell_type": "markdown",
   "id": "48f05013",
   "metadata": {},
   "source": [
    "#### 5. Популярный рейс\n",
    "\n",
    "Необходимо найти идентификатор самого популярного рейса.<br>\n",
    "Другими словами - тот flight_id, который встречался наибольшее количество раз во входных данных.<br>\n",
    "Если таких рейсов несколько, то необходимо вывести их все на одной строке через пробел в порядке возрастания их значения.<br>\n",
    "\n",
    "В этой задаче надо написать весь код самостоятельно (а не реализовывать какую-то конкретную функцию).<br>\n",
    "Решение должно само читать входные данные и писать ответ в заданном формате.<br>\n",
    "\n",
    "##### Формат входных данных\n",
    "На первой строчке записано натуральное число N.<br>\n",
    "На последующих N строчках записаны данные об очередном талоне.<br>\n",
    "Порядок полей в строчке: ticket_no, flight_id, boarding_no, seat_no.<br>\n",
    "В поле flight_id записано целое число больше 0.<br>\n",
    "Все поля разделены одной запятой. В самих данных запятых нет.<br>\n",
    "\n",
    "##### Формат выходных данных\n",
    "Одна строчка, содержащая все flight_id для самых популярных рейсов.<br>\n",
    "Flight_id разделены пробелом и идут в порядке возрастания значения (как числа).<br>\n",
    "\n",
    "###### Примечание\n",
    "Обратите внимание, что строчки и числа сравниваются по-разному.<br>\n",
    "Так, например, строка \"3\" больше строчки \"10\".<br>\n",
    "Иными словами в ответе должно быть 3,10 вместо \"10\",\"3\".<br>\n",
    "\n",
    "###### Пример входных данных\n",
    "5<br>\n",
    "EXGJGJ521,3,252st,10;C<br>\n",
    "2Jw2n5l,3,252st,16;F<br>\n",
    "KUIK2YL,1,Номер:327ggs,30;A<br>\n",
    "8XSOVGVNDQ,1,Номер:327ggs,51;A<br>\n",
    "DRXGH62d,5,7733d,62;A<br>\n",
    "\n",
    "###### Пример выходных данных\n",
    "1 3"
   ]
  },
  {
   "cell_type": "code",
   "execution_count": 15,
   "id": "3e0dcf53",
   "metadata": {},
   "outputs": [
    {
     "name": "stdout",
     "output_type": "stream",
     "text": [
      "3\n",
      "EXGJGJ521,3,252st,10;C\n",
      "EXGJGJ521,332,252st,10;C\n",
      "EXGJGJ521,32,252st,10;C\n"
     ]
    },
    {
     "ename": "TypeError",
     "evalue": "sequence item 0: expected str instance, int found",
     "output_type": "error",
     "traceback": [
      "\u001b[1;31m---------------------------------------------------------------------------\u001b[0m",
      "\u001b[1;31mTypeError\u001b[0m                                 Traceback (most recent call last)",
      "\u001b[1;32m<ipython-input-15-c659f033dc72>\u001b[0m in \u001b[0;36m<module>\u001b[1;34m\u001b[0m\n\u001b[0;32m     14\u001b[0m         \u001b[0mmax_flights\u001b[0m\u001b[1;33m.\u001b[0m\u001b[0mappend\u001b[0m\u001b[1;33m(\u001b[0m\u001b[0mint\u001b[0m\u001b[1;33m(\u001b[0m\u001b[0mkey\u001b[0m\u001b[1;33m)\u001b[0m\u001b[1;33m)\u001b[0m\u001b[1;33m\u001b[0m\u001b[1;33m\u001b[0m\u001b[0m\n\u001b[0;32m     15\u001b[0m \u001b[0mmax_flights\u001b[0m\u001b[1;33m.\u001b[0m\u001b[0msort\u001b[0m\u001b[1;33m(\u001b[0m\u001b[1;33m)\u001b[0m\u001b[1;33m\u001b[0m\u001b[1;33m\u001b[0m\u001b[0m\n\u001b[1;32m---> 16\u001b[1;33m \u001b[0mprint\u001b[0m\u001b[1;33m(\u001b[0m\u001b[1;34m','\u001b[0m\u001b[1;33m.\u001b[0m\u001b[0mjoin\u001b[0m\u001b[1;33m(\u001b[0m\u001b[0mmax_flights\u001b[0m\u001b[1;33m)\u001b[0m\u001b[1;33m.\u001b[0m\u001b[0mreplace\u001b[0m\u001b[1;33m(\u001b[0m\u001b[1;34m','\u001b[0m\u001b[1;33m,\u001b[0m\u001b[1;34m' '\u001b[0m\u001b[1;33m)\u001b[0m\u001b[1;33m)\u001b[0m\u001b[1;33m\u001b[0m\u001b[1;33m\u001b[0m\u001b[0m\n\u001b[0m",
      "\u001b[1;31mTypeError\u001b[0m: sequence item 0: expected str instance, int found"
     ]
    }
   ],
   "source": [
    "count = int(input(''))\n",
    "flights = []\n",
    "for row in range(count):\n",
    "    ticket_no, flight_id, boarding_no, seat_no = input().split(',')\n",
    "    flights.append(flight_id)\n",
    "unique = dict(zip(list(flights),[list(flights).count(i) for i in list(flights)]))\n",
    "max_ = 0\n",
    "for key, value in unique.items():\n",
    "    if max_ < value:\n",
    "        max_ = int(value)\n",
    "max_flights = []\n",
    "for key, value in unique.items():\n",
    "    if max_ == value:\n",
    "        max_flights.append(int(key))\n",
    "max_flights.sort()\n",
    "for i in max_flights:\n",
    "    print(i, end=' ')"
   ]
  },
  {
   "cell_type": "code",
   "execution_count": 19,
   "id": "a62f81f0",
   "metadata": {},
   "outputs": [
    {
     "data": {
      "text/plain": [
       "[3, 32, 332]"
      ]
     },
     "execution_count": 19,
     "metadata": {},
     "output_type": "execute_result"
    }
   ],
   "source": [
    "max_flights"
   ]
  },
  {
   "cell_type": "code",
   "execution_count": 21,
   "id": "0822aaff",
   "metadata": {},
   "outputs": [
    {
     "name": "stdout",
     "output_type": "stream",
     "text": [
      "3 32 332 "
     ]
    }
   ],
   "source": [
    "for i in max_flights:\n",
    "    print(i, end=' ')"
   ]
  }
 ],
 "metadata": {
  "kernelspec": {
   "display_name": "Python 3",
   "language": "python",
   "name": "python3"
  },
  "language_info": {
   "codemirror_mode": {
    "name": "ipython",
    "version": 3
   },
   "file_extension": ".py",
   "mimetype": "text/x-python",
   "name": "python",
   "nbconvert_exporter": "python",
   "pygments_lexer": "ipython3",
   "version": "3.8.8"
  }
 },
 "nbformat": 4,
 "nbformat_minor": 5
}
